{
 "cells": [
  {
   "cell_type": "markdown",
   "metadata": {},
   "source": [
    "# SetUp"
   ]
  },
  {
   "cell_type": "code",
   "execution_count": 30,
   "metadata": {},
   "outputs": [],
   "source": [
    "import pandas as pd\n",
    "import numpy as np\n",
    "\n",
    "import matplotlib.pyplot as plt\n",
    "import seaborn as sns\n",
    "\n",
    "import category_encoders as ce\n",
    "from sklearn.preprocessing import MinMaxScaler, StandardScaler, MaxAbsScaler, RobustScaler\n",
    "\n",
    "from scipy.stats import boxcox"
   ]
  },
  {
   "cell_type": "code",
   "execution_count": 31,
   "metadata": {},
   "outputs": [],
   "source": [
    "df = pd.read_csv(\"/Users/drewpeterson/Documents/Programming/Python/DataSets/LearningFuze_Data/LoansTrainingSet.csv\", low_memory=False)\n",
    "\n",
    "def update_column_names(columns):\n",
    "    new_column_name_list = []\n",
    "    for each_column in list(columns):\n",
    "        split_title = each_column.split(\" \")\n",
    "        underscored_title = \"_\".join(split_title).lower()\n",
    "        new_column_name_list.append(underscored_title)\n",
    "    return new_column_name_list\n",
    "\n",
    "df.columns = update_column_names(df.columns)"
   ]
  },
  {
   "cell_type": "markdown",
   "metadata": {},
   "source": [
    "# Correct Columns & Identify NULLs"
   ]
  },
  {
   "cell_type": "code",
   "execution_count": 32,
   "metadata": {},
   "outputs": [],
   "source": [
    "df.home_ownership = df.home_ownership.apply(lambda x: \"Home Mortgage\" if x == \"HaveMortgage\" else x)\n",
    "\n",
    "df.purpose = df.purpose.apply(lambda x: \"Other\" if x == \"other\" else x)\n",
    "\n",
    "df.monthly_debt = df.monthly_debt.str.replace(\"$\", \"\").str.replace(\",\",\"\").astype(float)\n",
    "\n",
    "df.maximum_open_credit = df.maximum_open_credit.apply(lambda x: np.NaN if x == \"#VALUE!\" else float(x))\n",
    "\n",
    "df.current_loan_amount = df.current_loan_amount.apply(lambda x: np.NaN if x==99999999 else x)\n",
    "\n",
    "df.credit_score = df.credit_score.apply(lambda x: x/10 if x > 1000 else x)"
   ]
  },
  {
   "cell_type": "markdown",
   "metadata": {},
   "source": [
    "# Duplicates"
   ]
  },
  {
   "cell_type": "markdown",
   "metadata": {},
   "source": [
    "Step1: Fill NA with values\n",
    "\n",
    "Step 2: Set all rows with duplicate loan_id equal to bank risk management safest option, make all rows with the same loan_id the same\n",
    "\n",
    "Step 3: Remove duplicate rows (this deletes all rows with duplicate loan_ids)"
   ]
  },
  {
   "cell_type": "code",
   "execution_count": 33,
   "metadata": {},
   "outputs": [],
   "source": [
    "# Impute Credit Score and Annual Income by the Customer_ID (reduces NULLs in these columns by 15,000)\n",
    "\n",
    "df.credit_score = df.groupby([\"customer_id\"]).credit_score.transform(lambda x: x.fillna(x.min()))\n",
    "df.annual_income = df.groupby([\"customer_id\"]).annual_income.transform(lambda x: x.fillna(x.min()))"
   ]
  },
  {
   "cell_type": "markdown",
   "metadata": {},
   "source": [
    "Beyond just filling in NULLs, set all values of unqiue Loan_ID's equal to the min or max (depending on Bank Risk Management)"
   ]
  },
  {
   "cell_type": "code",
   "execution_count": 34,
   "metadata": {},
   "outputs": [],
   "source": [
    "df.current_loan_amount = df.groupby([\"loan_id\"]).current_loan_amount.transform(lambda x: x.max())\n",
    "\n",
    "df.credit_score = df.groupby([\"loan_id\"]).credit_score.transform(lambda x: x.min())\n",
    "\n",
    "df.annual_income = df.groupby([\"loan_id\"]).annual_income.transform(lambda x: x.min())\n",
    "\n",
    "df.months_since_last_delinquent = df.groupby([\"loan_id\"]).months_since_last_delinquent.transform(lambda x: x.min())\n",
    "\n",
    "df.maximum_open_credit = df.groupby([\"loan_id\"]).maximum_open_credit.transform(lambda x: x.min())\n",
    "\n",
    "df.bankruptcies = df.groupby([\"loan_id\"]).bankruptcies.transform(lambda x: x.max())\n",
    "\n",
    "df.tax_liens = df.groupby([\"loan_id\"]).tax_liens.transform(lambda x: x.max())\n",
    "\n",
    "df.monthly_debt = df.groupby([\"loan_id\"]).monthly_debt.transform(lambda x: x.max())\n",
    "\n",
    "df.years_of_credit_history = df.groupby([\"loan_id\"]).years_of_credit_history.transform(lambda x: x.min())\n",
    "\n",
    "df.number_of_open_accounts = df.groupby([\"loan_id\"]).number_of_open_accounts.transform(lambda x: x.min())\n",
    "\n",
    "df.number_of_credit_problems = df.groupby([\"loan_id\"]).number_of_credit_problems.transform(lambda x: x.max())\n",
    "\n",
    "df.current_credit_balance = df.groupby([\"loan_id\"]).current_credit_balance.transform(lambda x: x.max())"
   ]
  },
  {
   "cell_type": "code",
   "execution_count": 35,
   "metadata": {},
   "outputs": [
    {
     "data": {
      "text/plain": [
       "41284"
      ]
     },
     "execution_count": 35,
     "metadata": {},
     "output_type": "execute_result"
    }
   ],
   "source": [
    "df.duplicated().sum()"
   ]
  },
  {
   "cell_type": "markdown",
   "metadata": {},
   "source": [
    "40,000+ Duplicated Rows"
   ]
  },
  {
   "cell_type": "code",
   "execution_count": 36,
   "metadata": {},
   "outputs": [],
   "source": [
    "df.drop_duplicates(inplace=True)"
   ]
  },
  {
   "cell_type": "code",
   "execution_count": 37,
   "metadata": {},
   "outputs": [
    {
     "data": {
      "text/plain": [
       "0"
      ]
     },
     "execution_count": 37,
     "metadata": {},
     "output_type": "execute_result"
    }
   ],
   "source": [
    "df.duplicated().sum()"
   ]
  },
  {
   "cell_type": "markdown",
   "metadata": {},
   "source": [
    "Remove Duplicated Rows"
   ]
  },
  {
   "cell_type": "markdown",
   "metadata": {},
   "source": [
    "# NULL Values"
   ]
  },
  {
   "cell_type": "markdown",
   "metadata": {},
   "source": [
    "Structurally Missing Data:\n",
    "\n",
    "Keep Categorical Nulls as Null\n",
    "* Years in current Job\n",
    "* Months since last delinquent\n",
    "\n",
    "Impute Numerical Values\n",
    "* Current Loan Amount\n",
    "* Annual Income\n",
    "* Credit Score\n",
    "* Maxiumum Open Credit\n",
    "* bankruptcies\n",
    "* tax_liens"
   ]
  },
  {
   "cell_type": "code",
   "execution_count": 13,
   "metadata": {},
   "outputs": [
    {
     "data": {
      "text/plain": [
       "loan_id                              0\n",
       "customer_id                          0\n",
       "loan_status                          0\n",
       "current_loan_amount                  0\n",
       "term                                 0\n",
       "credit_score                         0\n",
       "years_in_current_job              8990\n",
       "home_ownership                       0\n",
       "annual_income                        0\n",
       "purpose                              0\n",
       "monthly_debt                         0\n",
       "years_of_credit_history              0\n",
       "months_since_last_delinquent    118258\n",
       "number_of_open_accounts              0\n",
       "number_of_credit_problems            0\n",
       "current_credit_balance               0\n",
       "maximum_open_credit                  0\n",
       "bankruptcies                         0\n",
       "tax_liens                            0\n",
       "dtype: int64"
      ]
     },
     "execution_count": 13,
     "metadata": {},
     "output_type": "execute_result"
    }
   ],
   "source": [
    "df.isnull().sum()"
   ]
  },
  {
   "cell_type": "markdown",
   "metadata": {},
   "source": [
    "Removing Small Number of NULLs \n",
    "\n",
    "Null values in maxiumum_open_credit (2 rows) and tax_liens (22 rows) represent Less than 1% of Data\n",
    "\n",
    "Remove Observations where those columns are NULL"
   ]
  },
  {
   "cell_type": "code",
   "execution_count": 38,
   "metadata": {},
   "outputs": [],
   "source": [
    "df.dropna(subset = [\"maximum_open_credit\", \"tax_liens\"], inplace=True)"
   ]
  },
  {
   "cell_type": "markdown",
   "metadata": {},
   "source": [
    "Bankruptcies\n",
    "\n",
    "Related to number_of_credit_problems (categorical numerical has only 12 possible values)\n",
    "\n",
    "Groupby number_of_credit_problems, impute the median"
   ]
  },
  {
   "cell_type": "code",
   "execution_count": 39,
   "metadata": {},
   "outputs": [],
   "source": [
    "df.bankruptcies = df.groupby(\"number_of_credit_problems\").bankruptcies.transform(lambda x: x.fillna(x.median()))"
   ]
  },
  {
   "cell_type": "markdown",
   "metadata": {},
   "source": [
    "Current Loan Amount\n",
    "\n",
    "Current Loan Amount may be related to the purpose of the loan\n",
    "\n",
    "GroupBy all the categoricals, except for years_in_current_job (has nulls)"
   ]
  },
  {
   "cell_type": "code",
   "execution_count": 40,
   "metadata": {},
   "outputs": [],
   "source": [
    "df.current_loan_amount = df.groupby([\"purpose\", \"loan_status\", \"term\", \"home_ownership\"]).current_loan_amount.transform(lambda x: x.fillna(x.median()));"
   ]
  },
  {
   "cell_type": "code",
   "execution_count": 39,
   "metadata": {},
   "outputs": [
    {
     "data": {
      "text/plain": [
       "<Axes: xlabel='purpose'>"
      ]
     },
     "execution_count": 39,
     "metadata": {},
     "output_type": "execute_result"
    },
    {
     "data": {
      "image/png": "[encoded data removed]",
      "text/plain": [
       "<Figure size 640x480 with 1 Axes>"
      ]
     },
     "metadata": {},
     "output_type": "display_data"
    }
   ],
   "source": [
    "df.purpose.value_counts().plot(kind=\"bar\")"
   ]
  },
  {
   "cell_type": "code",
   "execution_count": 45,
   "metadata": {},
   "outputs": [
    {
     "data": {
      "text/html": [
       "<div>\n",
       "<style scoped>\n",
       "    .dataframe tbody tr th:only-of-type {\n",
       "        vertical-align: middle;\n",
       "    }\n",
       "\n",
       "    .dataframe tbody tr th {\n",
       "        vertical-align: top;\n",
       "    }\n",
       "\n",
       "    .dataframe thead th {\n",
       "        text-align: right;\n",
       "    }\n",
       "</style>\n",
       "<table border=\"1\" class=\"dataframe\">\n",
       "  <thead>\n",
       "    <tr style=\"text-align: right;\">\n",
       "      <th></th>\n",
       "      <th>purpose</th>\n",
       "      <th>loan_status</th>\n",
       "      <th>home_ownership</th>\n",
       "      <th>term</th>\n",
       "      <th>current_loan_amount</th>\n",
       "    </tr>\n",
       "  </thead>\n",
       "  <tbody>\n",
       "    <tr>\n",
       "      <th>0</th>\n",
       "      <td>Business Loan</td>\n",
       "      <td>Charged Off</td>\n",
       "      <td>Home Mortgage</td>\n",
       "      <td>Long Term</td>\n",
       "      <td>23978.0</td>\n",
       "    </tr>\n",
       "    <tr>\n",
       "      <th>1</th>\n",
       "      <td>Business Loan</td>\n",
       "      <td>Charged Off</td>\n",
       "      <td>Home Mortgage</td>\n",
       "      <td>Short Term</td>\n",
       "      <td>14315.0</td>\n",
       "    </tr>\n",
       "    <tr>\n",
       "      <th>2</th>\n",
       "      <td>Business Loan</td>\n",
       "      <td>Charged Off</td>\n",
       "      <td>Own Home</td>\n",
       "      <td>Long Term</td>\n",
       "      <td>20444.0</td>\n",
       "    </tr>\n",
       "    <tr>\n",
       "      <th>3</th>\n",
       "      <td>Business Loan</td>\n",
       "      <td>Charged Off</td>\n",
       "      <td>Own Home</td>\n",
       "      <td>Short Term</td>\n",
       "      <td>9908.0</td>\n",
       "    </tr>\n",
       "    <tr>\n",
       "      <th>4</th>\n",
       "      <td>Business Loan</td>\n",
       "      <td>Charged Off</td>\n",
       "      <td>Rent</td>\n",
       "      <td>Long Term</td>\n",
       "      <td>17635.0</td>\n",
       "    </tr>\n",
       "    <tr>\n",
       "      <th>...</th>\n",
       "      <td>...</td>\n",
       "      <td>...</td>\n",
       "      <td>...</td>\n",
       "      <td>...</td>\n",
       "      <td>...</td>\n",
       "    </tr>\n",
       "    <tr>\n",
       "      <th>102</th>\n",
       "      <td>Take a Trip</td>\n",
       "      <td>Fully Paid</td>\n",
       "      <td>Home Mortgage</td>\n",
       "      <td>Short Term</td>\n",
       "      <td>4880.0</td>\n",
       "    </tr>\n",
       "    <tr>\n",
       "      <th>103</th>\n",
       "      <td>Take a Trip</td>\n",
       "      <td>Fully Paid</td>\n",
       "      <td>Own Home</td>\n",
       "      <td>Long Term</td>\n",
       "      <td>9938.0</td>\n",
       "    </tr>\n",
       "    <tr>\n",
       "      <th>104</th>\n",
       "      <td>Take a Trip</td>\n",
       "      <td>Fully Paid</td>\n",
       "      <td>Own Home</td>\n",
       "      <td>Short Term</td>\n",
       "      <td>5033.0</td>\n",
       "    </tr>\n",
       "    <tr>\n",
       "      <th>105</th>\n",
       "      <td>Take a Trip</td>\n",
       "      <td>Fully Paid</td>\n",
       "      <td>Rent</td>\n",
       "      <td>Long Term</td>\n",
       "      <td>6703.0</td>\n",
       "    </tr>\n",
       "    <tr>\n",
       "      <th>106</th>\n",
       "      <td>Take a Trip</td>\n",
       "      <td>Fully Paid</td>\n",
       "      <td>Rent</td>\n",
       "      <td>Short Term</td>\n",
       "      <td>4799.0</td>\n",
       "    </tr>\n",
       "  </tbody>\n",
       "</table>\n",
       "<p>107 rows × 5 columns</p>\n",
       "</div>"
      ],
      "text/plain": [
       "           purpose  loan_status home_ownership        term  \\\n",
       "0    Business Loan  Charged Off  Home Mortgage   Long Term   \n",
       "1    Business Loan  Charged Off  Home Mortgage  Short Term   \n",
       "2    Business Loan  Charged Off       Own Home   Long Term   \n",
       "3    Business Loan  Charged Off       Own Home  Short Term   \n",
       "4    Business Loan  Charged Off           Rent   Long Term   \n",
       "..             ...          ...            ...         ...   \n",
       "102    Take a Trip   Fully Paid  Home Mortgage  Short Term   \n",
       "103    Take a Trip   Fully Paid       Own Home   Long Term   \n",
       "104    Take a Trip   Fully Paid       Own Home  Short Term   \n",
       "105    Take a Trip   Fully Paid           Rent   Long Term   \n",
       "106    Take a Trip   Fully Paid           Rent  Short Term   \n",
       "\n",
       "     current_loan_amount  \n",
       "0                23978.0  \n",
       "1                14315.0  \n",
       "2                20444.0  \n",
       "3                 9908.0  \n",
       "4                17635.0  \n",
       "..                   ...  \n",
       "102               4880.0  \n",
       "103               9938.0  \n",
       "104               5033.0  \n",
       "105               6703.0  \n",
       "106               4799.0  \n",
       "\n",
       "[107 rows x 5 columns]"
      ]
     },
     "execution_count": 45,
     "metadata": {},
     "output_type": "execute_result"
    }
   ],
   "source": [
    "df.groupby([\"purpose\", \"loan_status\", \"home_ownership\", \"term\"]).current_loan_amount.median().reset_index()"
   ]
  },
  {
   "cell_type": "code",
   "execution_count": 42,
   "metadata": {},
   "outputs": [
    {
     "data": {
      "text/plain": [
       "<Axes: >"
      ]
     },
     "execution_count": 42,
     "metadata": {},
     "output_type": "execute_result"
    },
    {
     "data": {
      "image/png": "[encoded data removed]",
      "text/plain": [
       "<Figure size 640x480 with 1 Axes>"
      ]
     },
     "metadata": {},
     "output_type": "display_data"
    }
   ],
   "source": [
    "df.current_loan_amount.hist()"
   ]
  },
  {
   "cell_type": "markdown",
   "metadata": {},
   "source": [
    "Credit Score & Annual Income\n",
    "\n",
    "Group by categoricals relevant for each"
   ]
  },
  {
   "cell_type": "code",
   "execution_count": 41,
   "metadata": {},
   "outputs": [],
   "source": [
    "df.credit_score = df.groupby([\"purpose\", \"loan_status\", \"term\"]).credit_score.transform(lambda x: x.fillna(x.median()))\n",
    "df.annual_income = df.groupby([\"purpose\", \"loan_status\", \"home_ownership\"]).annual_income.transform(lambda x: x.fillna(x.median()))"
   ]
  },
  {
   "cell_type": "code",
   "execution_count": null,
   "metadata": {},
   "outputs": [],
   "source": [
    "#df.dropna(subset=[\"credit_score\"], inplace=True)"
   ]
  },
  {
   "cell_type": "markdown",
   "metadata": {},
   "source": [
    "# Months Since Last Delinquent"
   ]
  },
  {
   "cell_type": "markdown",
   "metadata": {},
   "source": [
    "Null Values in Months Since Last Delinquent\n",
    "\n",
    "Some Null Values in Months Since Last Delinquent are Structurally Missing, for cases where a person has not ever been delinquent on a payment\n",
    "\n",
    "However, if an observation has credit problems, but still has a NA in months since last delinquent, then can assume this data is missing at random\n",
    "\n",
    "Step 1: \n",
    "Impute the median months since last delinquent as other people with the same number of credit problems \n",
    "\n",
    "\n",
    "Step 2: \n",
    "Fill in remaining missing values with a relevant value that reflects positively on not having ever been delinquent (200)\n"
   ]
  },
  {
   "cell_type": "code",
   "execution_count": 42,
   "metadata": {},
   "outputs": [
    {
     "data": {
      "text/plain": [
       "118258"
      ]
     },
     "execution_count": 42,
     "metadata": {},
     "output_type": "execute_result"
    }
   ],
   "source": [
    "df.months_since_last_delinquent.isnull().sum()"
   ]
  },
  {
   "cell_type": "code",
   "execution_count": 120,
   "metadata": {},
   "outputs": [
    {
     "data": {
      "text/html": [
       "<div>\n",
       "<style scoped>\n",
       "    .dataframe tbody tr th:only-of-type {\n",
       "        vertical-align: middle;\n",
       "    }\n",
       "\n",
       "    .dataframe tbody tr th {\n",
       "        vertical-align: top;\n",
       "    }\n",
       "\n",
       "    .dataframe thead th {\n",
       "        text-align: right;\n",
       "    }\n",
       "</style>\n",
       "<table border=\"1\" class=\"dataframe\">\n",
       "  <thead>\n",
       "    <tr style=\"text-align: right;\">\n",
       "      <th></th>\n",
       "      <th>current_loan_amount</th>\n",
       "      <th>credit_score</th>\n",
       "      <th>annual_income</th>\n",
       "      <th>monthly_debt</th>\n",
       "      <th>years_of_credit_history</th>\n",
       "      <th>months_since_last_delinquent</th>\n",
       "      <th>number_of_open_accounts</th>\n",
       "      <th>number_of_credit_problems</th>\n",
       "      <th>current_credit_balance</th>\n",
       "      <th>maximum_open_credit</th>\n",
       "      <th>...</th>\n",
       "      <th>purpose_debt_consolidation</th>\n",
       "      <th>purpose_other</th>\n",
       "      <th>purpose_business_loan</th>\n",
       "      <th>purpose_home_improvements</th>\n",
       "      <th>purpose_buy_house</th>\n",
       "      <th>purpose_buy_a_car</th>\n",
       "      <th>purpose_medical_bills</th>\n",
       "      <th>purpose_take_a_trip</th>\n",
       "      <th>home_encoded_mortgage</th>\n",
       "      <th>home_encoded_own</th>\n",
       "    </tr>\n",
       "  </thead>\n",
       "  <tbody>\n",
       "    <tr>\n",
       "      <th>5</th>\n",
       "      <td>10208.0</td>\n",
       "      <td>716.0</td>\n",
       "      <td>41853.0</td>\n",
       "      <td>561.52</td>\n",
       "      <td>13.2</td>\n",
       "      <td>NaN</td>\n",
       "      <td>4</td>\n",
       "      <td>1</td>\n",
       "      <td>2289</td>\n",
       "      <td>4671.0</td>\n",
       "      <td>...</td>\n",
       "      <td>0</td>\n",
       "      <td>0</td>\n",
       "      <td>1</td>\n",
       "      <td>0</td>\n",
       "      <td>0</td>\n",
       "      <td>0</td>\n",
       "      <td>0</td>\n",
       "      <td>0</td>\n",
       "      <td>0</td>\n",
       "      <td>0</td>\n",
       "    </tr>\n",
       "    <tr>\n",
       "      <th>16</th>\n",
       "      <td>12142.0</td>\n",
       "      <td>744.0</td>\n",
       "      <td>65605.0</td>\n",
       "      <td>984.07</td>\n",
       "      <td>21.0</td>\n",
       "      <td>NaN</td>\n",
       "      <td>5</td>\n",
       "      <td>1</td>\n",
       "      <td>11514</td>\n",
       "      <td>17262.0</td>\n",
       "      <td>...</td>\n",
       "      <td>1</td>\n",
       "      <td>0</td>\n",
       "      <td>0</td>\n",
       "      <td>0</td>\n",
       "      <td>0</td>\n",
       "      <td>0</td>\n",
       "      <td>0</td>\n",
       "      <td>0</td>\n",
       "      <td>1</td>\n",
       "      <td>0</td>\n",
       "    </tr>\n",
       "    <tr>\n",
       "      <th>22</th>\n",
       "      <td>7228.0</td>\n",
       "      <td>739.0</td>\n",
       "      <td>71439.5</td>\n",
       "      <td>439.56</td>\n",
       "      <td>17.8</td>\n",
       "      <td>NaN</td>\n",
       "      <td>13</td>\n",
       "      <td>1</td>\n",
       "      <td>8488</td>\n",
       "      <td>15866.0</td>\n",
       "      <td>...</td>\n",
       "      <td>1</td>\n",
       "      <td>0</td>\n",
       "      <td>0</td>\n",
       "      <td>0</td>\n",
       "      <td>0</td>\n",
       "      <td>0</td>\n",
       "      <td>0</td>\n",
       "      <td>0</td>\n",
       "      <td>1</td>\n",
       "      <td>0</td>\n",
       "    </tr>\n",
       "    <tr>\n",
       "      <th>57</th>\n",
       "      <td>7068.0</td>\n",
       "      <td>734.0</td>\n",
       "      <td>50510.0</td>\n",
       "      <td>425.68</td>\n",
       "      <td>21.3</td>\n",
       "      <td>NaN</td>\n",
       "      <td>7</td>\n",
       "      <td>1</td>\n",
       "      <td>4178</td>\n",
       "      <td>6850.0</td>\n",
       "      <td>...</td>\n",
       "      <td>0</td>\n",
       "      <td>1</td>\n",
       "      <td>0</td>\n",
       "      <td>0</td>\n",
       "      <td>0</td>\n",
       "      <td>0</td>\n",
       "      <td>0</td>\n",
       "      <td>0</td>\n",
       "      <td>0</td>\n",
       "      <td>1</td>\n",
       "    </tr>\n",
       "    <tr>\n",
       "      <th>59</th>\n",
       "      <td>9942.0</td>\n",
       "      <td>727.0</td>\n",
       "      <td>52825.0</td>\n",
       "      <td>1360.25</td>\n",
       "      <td>14.3</td>\n",
       "      <td>NaN</td>\n",
       "      <td>11</td>\n",
       "      <td>1</td>\n",
       "      <td>34163</td>\n",
       "      <td>43080.0</td>\n",
       "      <td>...</td>\n",
       "      <td>1</td>\n",
       "      <td>0</td>\n",
       "      <td>0</td>\n",
       "      <td>0</td>\n",
       "      <td>0</td>\n",
       "      <td>0</td>\n",
       "      <td>0</td>\n",
       "      <td>0</td>\n",
       "      <td>0</td>\n",
       "      <td>0</td>\n",
       "    </tr>\n",
       "    <tr>\n",
       "      <th>...</th>\n",
       "      <td>...</td>\n",
       "      <td>...</td>\n",
       "      <td>...</td>\n",
       "      <td>...</td>\n",
       "      <td>...</td>\n",
       "      <td>...</td>\n",
       "      <td>...</td>\n",
       "      <td>...</td>\n",
       "      <td>...</td>\n",
       "      <td>...</td>\n",
       "      <td>...</td>\n",
       "      <td>...</td>\n",
       "      <td>...</td>\n",
       "      <td>...</td>\n",
       "      <td>...</td>\n",
       "      <td>...</td>\n",
       "      <td>...</td>\n",
       "      <td>...</td>\n",
       "      <td>...</td>\n",
       "      <td>...</td>\n",
       "      <td>...</td>\n",
       "    </tr>\n",
       "    <tr>\n",
       "      <th>256906</th>\n",
       "      <td>7340.0</td>\n",
       "      <td>736.0</td>\n",
       "      <td>53867.0</td>\n",
       "      <td>220.04</td>\n",
       "      <td>26.4</td>\n",
       "      <td>NaN</td>\n",
       "      <td>4</td>\n",
       "      <td>1</td>\n",
       "      <td>6690</td>\n",
       "      <td>9682.0</td>\n",
       "      <td>...</td>\n",
       "      <td>1</td>\n",
       "      <td>0</td>\n",
       "      <td>0</td>\n",
       "      <td>0</td>\n",
       "      <td>0</td>\n",
       "      <td>0</td>\n",
       "      <td>0</td>\n",
       "      <td>0</td>\n",
       "      <td>0</td>\n",
       "      <td>0</td>\n",
       "    </tr>\n",
       "    <tr>\n",
       "      <th>256926</th>\n",
       "      <td>10393.0</td>\n",
       "      <td>736.0</td>\n",
       "      <td>53867.0</td>\n",
       "      <td>647.97</td>\n",
       "      <td>31.3</td>\n",
       "      <td>NaN</td>\n",
       "      <td>8</td>\n",
       "      <td>1</td>\n",
       "      <td>8997</td>\n",
       "      <td>44320.0</td>\n",
       "      <td>...</td>\n",
       "      <td>1</td>\n",
       "      <td>0</td>\n",
       "      <td>0</td>\n",
       "      <td>0</td>\n",
       "      <td>0</td>\n",
       "      <td>0</td>\n",
       "      <td>0</td>\n",
       "      <td>0</td>\n",
       "      <td>0</td>\n",
       "      <td>0</td>\n",
       "    </tr>\n",
       "    <tr>\n",
       "      <th>256943</th>\n",
       "      <td>10157.0</td>\n",
       "      <td>744.0</td>\n",
       "      <td>121884.0</td>\n",
       "      <td>598.25</td>\n",
       "      <td>14.3</td>\n",
       "      <td>NaN</td>\n",
       "      <td>6</td>\n",
       "      <td>1</td>\n",
       "      <td>8738</td>\n",
       "      <td>11682.0</td>\n",
       "      <td>...</td>\n",
       "      <td>1</td>\n",
       "      <td>0</td>\n",
       "      <td>0</td>\n",
       "      <td>0</td>\n",
       "      <td>0</td>\n",
       "      <td>0</td>\n",
       "      <td>0</td>\n",
       "      <td>0</td>\n",
       "      <td>1</td>\n",
       "      <td>0</td>\n",
       "    </tr>\n",
       "    <tr>\n",
       "      <th>256961</th>\n",
       "      <td>8721.0</td>\n",
       "      <td>726.0</td>\n",
       "      <td>38649.0</td>\n",
       "      <td>811.63</td>\n",
       "      <td>15.1</td>\n",
       "      <td>NaN</td>\n",
       "      <td>9</td>\n",
       "      <td>1</td>\n",
       "      <td>3860</td>\n",
       "      <td>13592.0</td>\n",
       "      <td>...</td>\n",
       "      <td>1</td>\n",
       "      <td>0</td>\n",
       "      <td>0</td>\n",
       "      <td>0</td>\n",
       "      <td>0</td>\n",
       "      <td>0</td>\n",
       "      <td>0</td>\n",
       "      <td>0</td>\n",
       "      <td>1</td>\n",
       "      <td>0</td>\n",
       "    </tr>\n",
       "    <tr>\n",
       "      <th>256977</th>\n",
       "      <td>11953.0</td>\n",
       "      <td>717.0</td>\n",
       "      <td>39844.0</td>\n",
       "      <td>982.82</td>\n",
       "      <td>11.7</td>\n",
       "      <td>NaN</td>\n",
       "      <td>9</td>\n",
       "      <td>1</td>\n",
       "      <td>4176</td>\n",
       "      <td>4783.0</td>\n",
       "      <td>...</td>\n",
       "      <td>1</td>\n",
       "      <td>0</td>\n",
       "      <td>0</td>\n",
       "      <td>0</td>\n",
       "      <td>0</td>\n",
       "      <td>0</td>\n",
       "      <td>0</td>\n",
       "      <td>0</td>\n",
       "      <td>1</td>\n",
       "      <td>0</td>\n",
       "    </tr>\n",
       "  </tbody>\n",
       "</table>\n",
       "<p>14561 rows × 25 columns</p>\n",
       "</div>"
      ],
      "text/plain": [
       "        current_loan_amount  credit_score  annual_income  monthly_debt  \\\n",
       "5                   10208.0         716.0        41853.0        561.52   \n",
       "16                  12142.0         744.0        65605.0        984.07   \n",
       "22                   7228.0         739.0        71439.5        439.56   \n",
       "57                   7068.0         734.0        50510.0        425.68   \n",
       "59                   9942.0         727.0        52825.0       1360.25   \n",
       "...                     ...           ...            ...           ...   \n",
       "256906               7340.0         736.0        53867.0        220.04   \n",
       "256926              10393.0         736.0        53867.0        647.97   \n",
       "256943              10157.0         744.0       121884.0        598.25   \n",
       "256961               8721.0         726.0        38649.0        811.63   \n",
       "256977              11953.0         717.0        39844.0        982.82   \n",
       "\n",
       "        years_of_credit_history  months_since_last_delinquent  \\\n",
       "5                          13.2                           NaN   \n",
       "16                         21.0                           NaN   \n",
       "22                         17.8                           NaN   \n",
       "57                         21.3                           NaN   \n",
       "59                         14.3                           NaN   \n",
       "...                         ...                           ...   \n",
       "256906                     26.4                           NaN   \n",
       "256926                     31.3                           NaN   \n",
       "256943                     14.3                           NaN   \n",
       "256961                     15.1                           NaN   \n",
       "256977                     11.7                           NaN   \n",
       "\n",
       "        number_of_open_accounts  number_of_credit_problems  \\\n",
       "5                             4                          1   \n",
       "16                            5                          1   \n",
       "22                           13                          1   \n",
       "57                            7                          1   \n",
       "59                           11                          1   \n",
       "...                         ...                        ...   \n",
       "256906                        4                          1   \n",
       "256926                        8                          1   \n",
       "256943                        6                          1   \n",
       "256961                        9                          1   \n",
       "256977                        9                          1   \n",
       "\n",
       "        current_credit_balance  maximum_open_credit  ...  \\\n",
       "5                         2289               4671.0  ...   \n",
       "16                       11514              17262.0  ...   \n",
       "22                        8488              15866.0  ...   \n",
       "57                        4178               6850.0  ...   \n",
       "59                       34163              43080.0  ...   \n",
       "...                        ...                  ...  ...   \n",
       "256906                    6690               9682.0  ...   \n",
       "256926                    8997              44320.0  ...   \n",
       "256943                    8738              11682.0  ...   \n",
       "256961                    3860              13592.0  ...   \n",
       "256977                    4176               4783.0  ...   \n",
       "\n",
       "        purpose_debt_consolidation  purpose_other  purpose_business_loan  \\\n",
       "5                                0              0                      1   \n",
       "16                               1              0                      0   \n",
       "22                               1              0                      0   \n",
       "57                               0              1                      0   \n",
       "59                               1              0                      0   \n",
       "...                            ...            ...                    ...   \n",
       "256906                           1              0                      0   \n",
       "256926                           1              0                      0   \n",
       "256943                           1              0                      0   \n",
       "256961                           1              0                      0   \n",
       "256977                           1              0                      0   \n",
       "\n",
       "        purpose_home_improvements  purpose_buy_house  purpose_buy_a_car  \\\n",
       "5                               0                  0                  0   \n",
       "16                              0                  0                  0   \n",
       "22                              0                  0                  0   \n",
       "57                              0                  0                  0   \n",
       "59                              0                  0                  0   \n",
       "...                           ...                ...                ...   \n",
       "256906                          0                  0                  0   \n",
       "256926                          0                  0                  0   \n",
       "256943                          0                  0                  0   \n",
       "256961                          0                  0                  0   \n",
       "256977                          0                  0                  0   \n",
       "\n",
       "        purpose_medical_bills  purpose_take_a_trip  home_encoded_mortgage  \\\n",
       "5                           0                    0                      0   \n",
       "16                          0                    0                      1   \n",
       "22                          0                    0                      1   \n",
       "57                          0                    0                      0   \n",
       "59                          0                    0                      0   \n",
       "...                       ...                  ...                    ...   \n",
       "256906                      0                    0                      0   \n",
       "256926                      0                    0                      0   \n",
       "256943                      0                    0                      1   \n",
       "256961                      0                    0                      1   \n",
       "256977                      0                    0                      1   \n",
       "\n",
       "        home_encoded_own  \n",
       "5                      0  \n",
       "16                     0  \n",
       "22                     0  \n",
       "57                     1  \n",
       "59                     0  \n",
       "...                  ...  \n",
       "256906                 0  \n",
       "256926                 0  \n",
       "256943                 0  \n",
       "256961                 0  \n",
       "256977                 0  \n",
       "\n",
       "[14561 rows x 25 columns]"
      ]
     },
     "execution_count": 120,
     "metadata": {},
     "output_type": "execute_result"
    }
   ],
   "source": [
    "df[(df.months_since_last_delinquent.isnull()) & (df.number_of_credit_problems >= 1)]"
   ]
  },
  {
   "cell_type": "markdown",
   "metadata": {},
   "source": [
    "Sam Method"
   ]
  },
  {
   "cell_type": "code",
   "execution_count": 128,
   "metadata": {},
   "outputs": [],
   "source": [
    "df.loc[((df.months_since_last_delinquent.isnull()) & (df.number_of_credit_problems >= 1)), \"months_since_last_delinquent\"] = 200"
   ]
  },
  {
   "cell_type": "code",
   "execution_count": 134,
   "metadata": {},
   "outputs": [
    {
     "data": {
      "text/plain": [
       "32.0"
      ]
     },
     "execution_count": 134,
     "metadata": {},
     "output_type": "execute_result"
    }
   ],
   "source": [
    "df[(df.months_since_last_delinquent < 200)].months_since_last_delinquent.median()"
   ]
  },
  {
   "cell_type": "markdown",
   "metadata": {},
   "source": [
    "ALTERNATIVE METHOD"
   ]
  },
  {
   "cell_type": "code",
   "execution_count": 43,
   "metadata": {},
   "outputs": [
    {
     "data": {
      "text/plain": [
       "loan_id                              0\n",
       "customer_id                          0\n",
       "loan_status                          0\n",
       "current_loan_amount                  0\n",
       "term                                 0\n",
       "credit_score                         0\n",
       "years_in_current_job              8990\n",
       "home_ownership                       0\n",
       "annual_income                        0\n",
       "purpose                              0\n",
       "monthly_debt                         0\n",
       "years_of_credit_history              0\n",
       "months_since_last_delinquent    118258\n",
       "number_of_open_accounts              0\n",
       "number_of_credit_problems            0\n",
       "current_credit_balance               0\n",
       "maximum_open_credit                  0\n",
       "bankruptcies                         0\n",
       "tax_liens                            0\n",
       "dtype: int64"
      ]
     },
     "execution_count": 43,
     "metadata": {},
     "output_type": "execute_result"
    }
   ],
   "source": [
    "df.isnull().sum()"
   ]
  },
  {
   "cell_type": "code",
   "execution_count": 52,
   "metadata": {},
   "outputs": [
    {
     "data": {
      "text/plain": [
       "<Axes: >"
      ]
     },
     "execution_count": 52,
     "metadata": {},
     "output_type": "execute_result"
    },
    {
     "data": {
      "image/png": "[encoded data removed]",
      "text/plain": [
       "<Figure size 640x480 with 1 Axes>"
      ]
     },
     "metadata": {},
     "output_type": "display_data"
    }
   ],
   "source": [
    "df.months_since_last_delinquent.hist()"
   ]
  },
  {
   "cell_type": "code",
   "execution_count": 65,
   "metadata": {},
   "outputs": [],
   "source": [
    "test_df = df.loc[((df.months_since_last_delinquent.isnull()) & (df.number_of_credit_problems > 0))]"
   ]
  },
  {
   "cell_type": "code",
   "execution_count": 71,
   "metadata": {},
   "outputs": [
    {
     "data": {
      "text/plain": [
       "months_since_last_delinquent\n",
       "40.0    13237\n",
       "42.0     1040\n",
       "42.5      247\n",
       "41.0       30\n",
       "17.0        3\n",
       "49.0        2\n",
       "25.5        1\n",
       "1.0         1\n",
       "Name: count, dtype: int64"
      ]
     },
     "execution_count": 71,
     "metadata": {},
     "output_type": "execute_result"
    }
   ],
   "source": [
    "test_df.months_since_last_delinquent.value_counts()"
   ]
  },
  {
   "cell_type": "code",
   "execution_count": 67,
   "metadata": {},
   "outputs": [
    {
     "name": "stderr",
     "output_type": "stream",
     "text": [
      "/var/folders/75/8cznfb4d2j56mrdwqyh36s3w0000gn/T/ipykernel_8393/409336867.py:1: SettingWithCopyWarning: \n",
      "A value is trying to be set on a copy of a slice from a DataFrame.\n",
      "Try using .loc[row_indexer,col_indexer] = value instead\n",
      "\n",
      "See the caveats in the documentation: https://pandas.pydata.org/pandas-docs/stable/user_guide/indexing.html#returning-a-view-versus-a-copy\n",
      "  test_df.months_since_last_delinquent = df[(df.number_of_credit_problems > 0)].groupby(\"number_of_credit_problems\").months_since_last_delinquent.transform(lambda x: x.fillna(x.median()))\n"
     ]
    }
   ],
   "source": [
    "test_df.months_since_last_delinquent = df[(df.number_of_credit_problems > 0)].groupby(\"number_of_credit_problems\").months_since_last_delinquent.transform(lambda x: x.fillna(x.median()))"
   ]
  },
  {
   "cell_type": "code",
   "execution_count": 58,
   "metadata": {},
   "outputs": [
    {
     "data": {
      "text/plain": [
       "(14561,)"
      ]
     },
     "execution_count": 58,
     "metadata": {},
     "output_type": "execute_result"
    }
   ],
   "source": []
  },
  {
   "cell_type": "code",
   "execution_count": null,
   "metadata": {},
   "outputs": [],
   "source": [
    "df.months_since_last_delinquent.hist()"
   ]
  },
  {
   "cell_type": "markdown",
   "metadata": {},
   "source": [
    "For Null Values in Months Since Last Delinquent\n",
    "\n",
    "If they have credit problems, then can assume this data is not structurally missing, but that it is just missing at random\n",
    "\n",
    "Fill in with the median months since last delinquent of the dataset that have credit problems over 0 (40 months)\n",
    "\n",
    "\n",
    "A step further: \n",
    "\n",
    "Fill "
   ]
  },
  {
   "cell_type": "markdown",
   "metadata": {},
   "source": [
    "First Go"
   ]
  },
  {
   "cell_type": "code",
   "execution_count": 17,
   "metadata": {},
   "outputs": [],
   "source": [
    "df.loc[((df.months_since_last_delinquent.isnull()) & (df.number_of_credit_problems > 0)), \"months_since_last_delinquent\"] = df[(df.number_of_credit_problems > 0)].months_since_last_delinquent.median()"
   ]
  },
  {
   "cell_type": "markdown",
   "metadata": {},
   "source": [
    "Second Attempt"
   ]
  },
  {
   "cell_type": "code",
   "execution_count": null,
   "metadata": {},
   "outputs": [],
   "source": [
    "df[(df.number_of_credit_problems > 0)].groupby(\"number_of_credit_problems\").months_since_last_delinquent.transform(lambda x: x.fillna(x.median()))"
   ]
  },
  {
   "cell_type": "markdown",
   "metadata": {},
   "source": [
    "Locate the rows where months since Last Deliquent is Null, and the Number of Credit Problems is Greater than 0\n",
    "* These columns are likely missing the months since delinquent at random, not because they have never been delinquent on a payment\n",
    "* Fill in the missing values of months since last delinquent with the median months since last delinquent of the people with the same number of credit problems"
   ]
  },
  {
   "cell_type": "code",
   "execution_count": 75,
   "metadata": {},
   "outputs": [],
   "source": [
    "df.loc[((df.months_since_last_delinquent.isnull()) & (df.number_of_credit_problems > 0)), \"months_since_last_delinquent\"] = df[(df.number_of_credit_problems > 0)].groupby(\"number_of_credit_problems\").months_since_last_delinquent.transform(lambda x: x.fillna(x.median()))"
   ]
  },
  {
   "cell_type": "markdown",
   "metadata": {},
   "source": [
    "Fill in the Remaining Null Values in Months Since last Delinquent \n",
    "* (assume these are missing values in months since last delinquent because they have never been delinquent)\n",
    "* This is a good thing, if they have never been delinquent on a payment, then set them equal to a number in the range of the highest months since last dleinquent (highest observation is 176, so fill NAs with 200)"
   ]
  },
  {
   "cell_type": "code",
   "execution_count": 79,
   "metadata": {},
   "outputs": [],
   "source": [
    "df.months_since_last_delinquent = df.months_since_last_delinquent.fillna(200)"
   ]
  },
  {
   "cell_type": "code",
   "execution_count": 73,
   "metadata": {},
   "outputs": [
    {
     "data": {
      "text/plain": [
       "<Axes: >"
      ]
     },
     "execution_count": 73,
     "metadata": {},
     "output_type": "execute_result"
    },
    {
     "data": {
      "image/png": "[encoded data removed]",
      "text/plain": [
       "<Figure size 640x480 with 1 Axes>"
      ]
     },
     "metadata": {},
     "output_type": "display_data"
    }
   ],
   "source": [
    "df.months_since_last_delinquent.hist()"
   ]
  },
  {
   "cell_type": "code",
   "execution_count": 76,
   "metadata": {},
   "outputs": [
    {
     "data": {
      "text/plain": [
       "count    111979.000000\n",
       "mean         35.706311\n",
       "std          20.415939\n",
       "min           0.000000\n",
       "25%          19.000000\n",
       "50%          37.000000\n",
       "75%          47.000000\n",
       "max         176.000000\n",
       "Name: months_since_last_delinquent, dtype: float64"
      ]
     },
     "execution_count": 76,
     "metadata": {},
     "output_type": "execute_result"
    }
   ],
   "source": [
    "df.months_since_last_delinquent.describe()"
   ]
  },
  {
   "cell_type": "code",
   "execution_count": 77,
   "metadata": {},
   "outputs": [
    {
     "data": {
      "text/plain": [
       "<Axes: >"
      ]
     },
     "execution_count": 77,
     "metadata": {},
     "output_type": "execute_result"
    },
    {
     "data": {
      "image/png": "[encoded data removed]",
      "text/plain": [
       "<Figure size 640x480 with 1 Axes>"
      ]
     },
     "metadata": {},
     "output_type": "display_data"
    }
   ],
   "source": [
    "df.months_since_last_delinquent.hist()"
   ]
  },
  {
   "cell_type": "code",
   "execution_count": 78,
   "metadata": {},
   "outputs": [
    {
     "data": {
      "text/plain": [
       "103697"
      ]
     },
     "execution_count": 78,
     "metadata": {},
     "output_type": "execute_result"
    }
   ],
   "source": [
    "df.months_since_last_delinquent.isnull().sum()"
   ]
  },
  {
   "cell_type": "code",
   "execution_count": 81,
   "metadata": {},
   "outputs": [
    {
     "data": {
      "text/plain": [
       "<Axes: >"
      ]
     },
     "execution_count": 81,
     "metadata": {},
     "output_type": "execute_result"
    },
    {
     "data": {
      "image/png": "[encoded data removed]",
      "text/plain": [
       "<Figure size 640x480 with 1 Axes>"
      ]
     },
     "metadata": {},
     "output_type": "display_data"
    }
   ],
   "source": [
    "df.months_since_last_delinquent.hist()"
   ]
  },
  {
   "cell_type": "code",
   "execution_count": 53,
   "metadata": {},
   "outputs": [
    {
     "data": {
      "text/plain": [
       "5         40.0\n",
       "16        40.0\n",
       "22        40.0\n",
       "36        55.0\n",
       "38        21.0\n",
       "          ... \n",
       "256959    80.0\n",
       "256960    47.0\n",
       "256961    40.0\n",
       "256971    63.0\n",
       "256977    40.0\n",
       "Name: months_since_last_delinquent, Length: 28215, dtype: float64"
      ]
     },
     "execution_count": 53,
     "metadata": {},
     "output_type": "execute_result"
    }
   ],
   "source": [
    "df[(df.number_of_credit_problems > 0)].groupby(\"number_of_credit_problems\").months_since_last_delinquent.transform(lambda x: x.fillna(x.median()))"
   ]
  },
  {
   "cell_type": "markdown",
   "metadata": {},
   "source": [
    "Length"
   ]
  },
  {
   "cell_type": "markdown",
   "metadata": {},
   "source": [
    "If the below code are the same length, then I believe it should be good to do the second attempt"
   ]
  },
  {
   "cell_type": "code",
   "execution_count": 44,
   "metadata": {},
   "outputs": [
    {
     "data": {
      "text/plain": [
       "(14561,)"
      ]
     },
     "execution_count": 44,
     "metadata": {},
     "output_type": "execute_result"
    }
   ],
   "source": [
    "df.loc[((df.months_since_last_delinquent.isnull()) & (df.number_of_credit_problems > 0)), \"months_since_last_delinquent\"].shape"
   ]
  },
  {
   "cell_type": "code",
   "execution_count": 45,
   "metadata": {},
   "outputs": [
    {
     "data": {
      "text/plain": [
       "(28215,)"
      ]
     },
     "execution_count": 45,
     "metadata": {},
     "output_type": "execute_result"
    }
   ],
   "source": [
    "df[(df.number_of_credit_problems > 0)].groupby(\"number_of_credit_problems\").months_since_last_delinquent.transform(lambda x: x.fillna(x.median())).shape"
   ]
  },
  {
   "cell_type": "code",
   "execution_count": 51,
   "metadata": {},
   "outputs": [
    {
     "data": {
      "text/plain": [
       "number_of_credit_problems\n",
       "1     40.0\n",
       "2     42.0\n",
       "3     42.5\n",
       "4     40.0\n",
       "5     41.0\n",
       "6     42.5\n",
       "7     40.0\n",
       "8     25.5\n",
       "9     49.0\n",
       "10    17.0\n",
       "11     1.0\n",
       "Name: months_since_last_delinquent, dtype: float64"
      ]
     },
     "execution_count": 51,
     "metadata": {},
     "output_type": "execute_result"
    }
   ],
   "source": [
    "df[(df.number_of_credit_problems > 0)].groupby(\"number_of_credit_problems\").months_since_last_delinquent.median()"
   ]
  },
  {
   "cell_type": "markdown",
   "metadata": {},
   "source": []
  },
  {
   "cell_type": "markdown",
   "metadata": {},
   "source": []
  },
  {
   "cell_type": "markdown",
   "metadata": {},
   "source": []
  },
  {
   "cell_type": "code",
   "execution_count": 22,
   "metadata": {},
   "outputs": [
    {
     "data": {
      "text/plain": [
       "40.0"
      ]
     },
     "execution_count": 22,
     "metadata": {},
     "output_type": "execute_result"
    }
   ],
   "source": [
    "df[(df.number_of_credit_problems ==1 )].months_since_last_delinquent.median()"
   ]
  },
  {
   "cell_type": "code",
   "execution_count": 25,
   "metadata": {},
   "outputs": [
    {
     "data": {
      "text/plain": [
       "40.0"
      ]
     },
     "execution_count": 25,
     "metadata": {},
     "output_type": "execute_result"
    }
   ],
   "source": [
    "df[(df.number_of_credit_problems ==4)].months_since_last_delinquent.median()"
   ]
  },
  {
   "cell_type": "code",
   "execution_count": 28,
   "metadata": {},
   "outputs": [
    {
     "data": {
      "text/plain": [
       "5         40.0\n",
       "16        40.0\n",
       "22        40.0\n",
       "36        55.0\n",
       "38        21.0\n",
       "          ... \n",
       "256959    80.0\n",
       "256960    47.0\n",
       "256961    40.0\n",
       "256971    63.0\n",
       "256977    40.0\n",
       "Name: months_since_last_delinquent, Length: 28215, dtype: float64"
      ]
     },
     "execution_count": 28,
     "metadata": {},
     "output_type": "execute_result"
    }
   ],
   "source": [
    "df[(df.number_of_credit_problems > 0)].groupby(\"number_of_credit_problems\").months_since_last_delinquent.transform(lambda x: x.fillna(x.median()))"
   ]
  },
  {
   "cell_type": "code",
   "execution_count": 27,
   "metadata": {},
   "outputs": [
    {
     "data": {
      "text/plain": [
       "number_of_credit_problems\n",
       "1     40.0\n",
       "2     40.0\n",
       "3     40.0\n",
       "4     40.0\n",
       "5     40.0\n",
       "6     40.0\n",
       "7     40.0\n",
       "8     26.0\n",
       "9     49.0\n",
       "10    40.0\n",
       "11    20.5\n",
       "Name: months_since_last_delinquent, dtype: float64"
      ]
     },
     "execution_count": 27,
     "metadata": {},
     "output_type": "execute_result"
    }
   ],
   "source": [
    "df[(df.number_of_credit_problems > 0)].groupby(\"number_of_credit_problems\").months_since_last_delinquent.median()"
   ]
  },
  {
   "cell_type": "code",
   "execution_count": 21,
   "metadata": {},
   "outputs": [
    {
     "data": {
      "text/plain": [
       "number_of_credit_problems\n",
       "1     24681\n",
       "2      2480\n",
       "3       665\n",
       "4       216\n",
       "5        99\n",
       "6        36\n",
       "7        14\n",
       "8        11\n",
       "10        6\n",
       "9         5\n",
       "11        2\n",
       "Name: count, dtype: int64"
      ]
     },
     "execution_count": 21,
     "metadata": {},
     "output_type": "execute_result"
    }
   ],
   "source": [
    "df[(df.number_of_credit_problems > 0)].number_of_credit_problems.value_counts()"
   ]
  },
  {
   "cell_type": "code",
   "execution_count": 149,
   "metadata": {},
   "outputs": [
    {
     "data": {
      "text/plain": [
       "<Axes: >"
      ]
     },
     "execution_count": 149,
     "metadata": {},
     "output_type": "execute_result"
    },
    {
     "data": {
      "image/png": "[encoded data removed]",
      "text/plain": [
       "<Figure size 640x480 with 1 Axes>"
      ]
     },
     "metadata": {},
     "output_type": "display_data"
    }
   ],
   "source": [
    "df.months_since_last_delinquent.hist()"
   ]
  },
  {
   "cell_type": "code",
   "execution_count": 151,
   "metadata": {},
   "outputs": [
    {
     "data": {
      "text/plain": [
       "<Axes: >"
      ]
     },
     "execution_count": 151,
     "metadata": {},
     "output_type": "execute_result"
    },
    {
     "data": {
      "image/png": "[encoded data removed]",
      "text/plain": [
       "<Figure size 640x480 with 1 Axes>"
      ]
     },
     "metadata": {},
     "output_type": "display_data"
    }
   ],
   "source": [
    "df.months_since_last_delinquent.hist()"
   ]
  },
  {
   "cell_type": "markdown",
   "metadata": {},
   "source": [
    "# Encoding"
   ]
  },
  {
   "cell_type": "markdown",
   "metadata": {},
   "source": [
    "Binary encoding\n",
    "\n",
    "Term & Loan Status"
   ]
  },
  {
   "cell_type": "code",
   "execution_count": 154,
   "metadata": {},
   "outputs": [],
   "source": [
    "df[\"term_encoded\"] = df.term.apply(lambda x: 1 if x==\"Long Term\" else 0)\n",
    "df[\"loan_status_encoded\"] = df.loan_status.apply(lambda x: 1 if x==\"Fully Paid\" else 0)"
   ]
  },
  {
   "cell_type": "markdown",
   "metadata": {},
   "source": [
    "Ordinal Encoding\n",
    "\n",
    "Years in Current Job"
   ]
  },
  {
   "cell_type": "code",
   "execution_count": 155,
   "metadata": {},
   "outputs": [],
   "source": [
    "df.years_in_current_job = df.years_in_current_job.fillna(0)\n",
    "df[\"years_in_job_encoded\"] = df.years_in_current_job.map({0:0, \"< 1 year\":0.5, \"1 year\":1, \"2 years\":2, \"3 years\":3, \"4 years\":4, \"5 years\":5, \"6 years\":6, \"7 years\":7, \"8 years\":8, \"9 years\":9, \"10+ years\":10})"
   ]
  },
  {
   "cell_type": "markdown",
   "metadata": {},
   "source": [
    "One Hot Encoding\n",
    "\n",
    "Home Ownership & Purpose"
   ]
  },
  {
   "cell_type": "code",
   "execution_count": 156,
   "metadata": {},
   "outputs": [],
   "source": [
    "one = ce.OneHotEncoder(use_cat_names=True)\n",
    "df[[\"home_encoded_mortgage\", \"home_encoded_own\"]] = one.fit_transform(df.home_ownership).iloc[:,:2]"
   ]
  },
  {
   "cell_type": "code",
   "execution_count": 157,
   "metadata": {},
   "outputs": [],
   "source": [
    "one = ce.OneHotEncoder(use_cat_names=True)\n",
    "df[one.fit_transform(df.purpose).iloc[:,:-1].columns] = one.fit_transform(df.purpose).iloc[:,:-1]\n",
    "df.columns = update_column_names(df.columns)"
   ]
  },
  {
   "cell_type": "code",
   "execution_count": 158,
   "metadata": {},
   "outputs": [
    {
     "data": {
      "text/html": [
       "<div>\n",
       "<style scoped>\n",
       "    .dataframe tbody tr th:only-of-type {\n",
       "        vertical-align: middle;\n",
       "    }\n",
       "\n",
       "    .dataframe tbody tr th {\n",
       "        vertical-align: top;\n",
       "    }\n",
       "\n",
       "    .dataframe thead th {\n",
       "        text-align: right;\n",
       "    }\n",
       "</style>\n",
       "<table border=\"1\" class=\"dataframe\">\n",
       "  <thead>\n",
       "    <tr style=\"text-align: right;\">\n",
       "      <th></th>\n",
       "      <th>loan_id</th>\n",
       "      <th>customer_id</th>\n",
       "      <th>loan_status</th>\n",
       "      <th>current_loan_amount</th>\n",
       "      <th>term</th>\n",
       "      <th>credit_score</th>\n",
       "      <th>years_in_current_job</th>\n",
       "      <th>home_ownership</th>\n",
       "      <th>annual_income</th>\n",
       "      <th>purpose</th>\n",
       "      <th>...</th>\n",
       "      <th>home_encoded_mortgage</th>\n",
       "      <th>home_encoded_own</th>\n",
       "      <th>purpose_debt_consolidation</th>\n",
       "      <th>purpose_other</th>\n",
       "      <th>purpose_business_loan</th>\n",
       "      <th>purpose_home_improvements</th>\n",
       "      <th>purpose_buy_house</th>\n",
       "      <th>purpose_buy_a_car</th>\n",
       "      <th>purpose_medical_bills</th>\n",
       "      <th>purpose_take_a_trip</th>\n",
       "    </tr>\n",
       "  </thead>\n",
       "  <tbody>\n",
       "    <tr>\n",
       "      <th>0</th>\n",
       "      <td>000025bb-5694-4cff-b17d-192b1a98ba44</td>\n",
       "      <td>5ebc8bb1-5eb9-4404-b11b-a6eebc401a19</td>\n",
       "      <td>Fully Paid</td>\n",
       "      <td>11520.0</td>\n",
       "      <td>Short Term</td>\n",
       "      <td>741.0</td>\n",
       "      <td>10+ years</td>\n",
       "      <td>Home Mortgage</td>\n",
       "      <td>33694.0</td>\n",
       "      <td>Debt Consolidation</td>\n",
       "      <td>...</td>\n",
       "      <td>1</td>\n",
       "      <td>0</td>\n",
       "      <td>1</td>\n",
       "      <td>0</td>\n",
       "      <td>0</td>\n",
       "      <td>0</td>\n",
       "      <td>0</td>\n",
       "      <td>0</td>\n",
       "      <td>0</td>\n",
       "      <td>0</td>\n",
       "    </tr>\n",
       "    <tr>\n",
       "      <th>1</th>\n",
       "      <td>00002c49-3a29-4bd4-8f67-c8f8fbc1048c</td>\n",
       "      <td>927b388d-2e01-423f-a8dc-f7e42d668f46</td>\n",
       "      <td>Fully Paid</td>\n",
       "      <td>3441.0</td>\n",
       "      <td>Short Term</td>\n",
       "      <td>734.0</td>\n",
       "      <td>4 years</td>\n",
       "      <td>Home Mortgage</td>\n",
       "      <td>42269.0</td>\n",
       "      <td>Other</td>\n",
       "      <td>...</td>\n",
       "      <td>1</td>\n",
       "      <td>0</td>\n",
       "      <td>0</td>\n",
       "      <td>1</td>\n",
       "      <td>0</td>\n",
       "      <td>0</td>\n",
       "      <td>0</td>\n",
       "      <td>0</td>\n",
       "      <td>0</td>\n",
       "      <td>0</td>\n",
       "    </tr>\n",
       "    <tr>\n",
       "      <th>2</th>\n",
       "      <td>00002d89-27f3-409b-aa76-90834f359a65</td>\n",
       "      <td>defce609-c631-447d-aad6-1270615e89c4</td>\n",
       "      <td>Fully Paid</td>\n",
       "      <td>21029.0</td>\n",
       "      <td>Short Term</td>\n",
       "      <td>747.0</td>\n",
       "      <td>10+ years</td>\n",
       "      <td>Home Mortgage</td>\n",
       "      <td>90126.0</td>\n",
       "      <td>Debt Consolidation</td>\n",
       "      <td>...</td>\n",
       "      <td>1</td>\n",
       "      <td>0</td>\n",
       "      <td>1</td>\n",
       "      <td>0</td>\n",
       "      <td>0</td>\n",
       "      <td>0</td>\n",
       "      <td>0</td>\n",
       "      <td>0</td>\n",
       "      <td>0</td>\n",
       "      <td>0</td>\n",
       "    </tr>\n",
       "    <tr>\n",
       "      <th>3</th>\n",
       "      <td>00005222-b4d8-45a4-ad8c-186057e24233</td>\n",
       "      <td>070bcecb-aae7-4485-a26a-e0403e7bb6c5</td>\n",
       "      <td>Fully Paid</td>\n",
       "      <td>18743.0</td>\n",
       "      <td>Short Term</td>\n",
       "      <td>747.0</td>\n",
       "      <td>10+ years</td>\n",
       "      <td>Own Home</td>\n",
       "      <td>38072.0</td>\n",
       "      <td>Debt Consolidation</td>\n",
       "      <td>...</td>\n",
       "      <td>0</td>\n",
       "      <td>1</td>\n",
       "      <td>1</td>\n",
       "      <td>0</td>\n",
       "      <td>0</td>\n",
       "      <td>0</td>\n",
       "      <td>0</td>\n",
       "      <td>0</td>\n",
       "      <td>0</td>\n",
       "      <td>0</td>\n",
       "    </tr>\n",
       "    <tr>\n",
       "      <th>4</th>\n",
       "      <td>0000757f-a121-41ed-b17b-162e76647c1f</td>\n",
       "      <td>dde79588-12f0-4811-bab0-e2b07f633fcd</td>\n",
       "      <td>Fully Paid</td>\n",
       "      <td>11731.0</td>\n",
       "      <td>Short Term</td>\n",
       "      <td>746.0</td>\n",
       "      <td>4 years</td>\n",
       "      <td>Rent</td>\n",
       "      <td>50025.0</td>\n",
       "      <td>Debt Consolidation</td>\n",
       "      <td>...</td>\n",
       "      <td>0</td>\n",
       "      <td>0</td>\n",
       "      <td>1</td>\n",
       "      <td>0</td>\n",
       "      <td>0</td>\n",
       "      <td>0</td>\n",
       "      <td>0</td>\n",
       "      <td>0</td>\n",
       "      <td>0</td>\n",
       "      <td>0</td>\n",
       "    </tr>\n",
       "  </tbody>\n",
       "</table>\n",
       "<p>5 rows × 32 columns</p>\n",
       "</div>"
      ],
      "text/plain": [
       "                                loan_id                           customer_id  \\\n",
       "0  000025bb-5694-4cff-b17d-192b1a98ba44  5ebc8bb1-5eb9-4404-b11b-a6eebc401a19   \n",
       "1  00002c49-3a29-4bd4-8f67-c8f8fbc1048c  927b388d-2e01-423f-a8dc-f7e42d668f46   \n",
       "2  00002d89-27f3-409b-aa76-90834f359a65  defce609-c631-447d-aad6-1270615e89c4   \n",
       "3  00005222-b4d8-45a4-ad8c-186057e24233  070bcecb-aae7-4485-a26a-e0403e7bb6c5   \n",
       "4  0000757f-a121-41ed-b17b-162e76647c1f  dde79588-12f0-4811-bab0-e2b07f633fcd   \n",
       "\n",
       "  loan_status  current_loan_amount        term  credit_score  \\\n",
       "0  Fully Paid              11520.0  Short Term         741.0   \n",
       "1  Fully Paid               3441.0  Short Term         734.0   \n",
       "2  Fully Paid              21029.0  Short Term         747.0   \n",
       "3  Fully Paid              18743.0  Short Term         747.0   \n",
       "4  Fully Paid              11731.0  Short Term         746.0   \n",
       "\n",
       "  years_in_current_job home_ownership  annual_income             purpose  ...  \\\n",
       "0            10+ years  Home Mortgage        33694.0  Debt Consolidation  ...   \n",
       "1              4 years  Home Mortgage        42269.0               Other  ...   \n",
       "2            10+ years  Home Mortgage        90126.0  Debt Consolidation  ...   \n",
       "3            10+ years       Own Home        38072.0  Debt Consolidation  ...   \n",
       "4              4 years           Rent        50025.0  Debt Consolidation  ...   \n",
       "\n",
       "   home_encoded_mortgage  home_encoded_own  purpose_debt_consolidation  \\\n",
       "0                      1                 0                           1   \n",
       "1                      1                 0                           0   \n",
       "2                      1                 0                           1   \n",
       "3                      0                 1                           1   \n",
       "4                      0                 0                           1   \n",
       "\n",
       "   purpose_other  purpose_business_loan  purpose_home_improvements  \\\n",
       "0              0                      0                          0   \n",
       "1              1                      0                          0   \n",
       "2              0                      0                          0   \n",
       "3              0                      0                          0   \n",
       "4              0                      0                          0   \n",
       "\n",
       "   purpose_buy_house  purpose_buy_a_car  purpose_medical_bills  \\\n",
       "0                  0                  0                      0   \n",
       "1                  0                  0                      0   \n",
       "2                  0                  0                      0   \n",
       "3                  0                  0                      0   \n",
       "4                  0                  0                      0   \n",
       "\n",
       "   purpose_take_a_trip  \n",
       "0                    0  \n",
       "1                    0  \n",
       "2                    0  \n",
       "3                    0  \n",
       "4                    0  \n",
       "\n",
       "[5 rows x 32 columns]"
      ]
     },
     "execution_count": 158,
     "metadata": {},
     "output_type": "execute_result"
    }
   ],
   "source": [
    "df.head()"
   ]
  },
  {
   "cell_type": "markdown",
   "metadata": {},
   "source": [
    "Drop ID & Categorical Columns"
   ]
  },
  {
   "cell_type": "code",
   "execution_count": 159,
   "metadata": {},
   "outputs": [],
   "source": [
    "df.drop(columns = [\"loan_id\", \"customer_id\", \"loan_status\", \"term\", \"home_ownership\", \"years_in_current_job\", \"purpose\"],axis=1, inplace=True)"
   ]
  },
  {
   "cell_type": "code",
   "execution_count": 162,
   "metadata": {},
   "outputs": [
    {
     "data": {
      "text/html": [
       "<div>\n",
       "<style scoped>\n",
       "    .dataframe tbody tr th:only-of-type {\n",
       "        vertical-align: middle;\n",
       "    }\n",
       "\n",
       "    .dataframe tbody tr th {\n",
       "        vertical-align: top;\n",
       "    }\n",
       "\n",
       "    .dataframe thead th {\n",
       "        text-align: right;\n",
       "    }\n",
       "</style>\n",
       "<table border=\"1\" class=\"dataframe\">\n",
       "  <thead>\n",
       "    <tr style=\"text-align: right;\">\n",
       "      <th></th>\n",
       "      <th>current_loan_amount</th>\n",
       "      <th>credit_score</th>\n",
       "      <th>annual_income</th>\n",
       "      <th>monthly_debt</th>\n",
       "      <th>years_of_credit_history</th>\n",
       "      <th>months_since_last_delinquent</th>\n",
       "      <th>number_of_open_accounts</th>\n",
       "      <th>number_of_credit_problems</th>\n",
       "      <th>current_credit_balance</th>\n",
       "      <th>maximum_open_credit</th>\n",
       "      <th>...</th>\n",
       "      <th>home_encoded_mortgage</th>\n",
       "      <th>home_encoded_own</th>\n",
       "      <th>purpose_debt_consolidation</th>\n",
       "      <th>purpose_other</th>\n",
       "      <th>purpose_business_loan</th>\n",
       "      <th>purpose_home_improvements</th>\n",
       "      <th>purpose_buy_house</th>\n",
       "      <th>purpose_buy_a_car</th>\n",
       "      <th>purpose_medical_bills</th>\n",
       "      <th>purpose_take_a_trip</th>\n",
       "    </tr>\n",
       "  </thead>\n",
       "  <tbody>\n",
       "    <tr>\n",
       "      <th>0</th>\n",
       "      <td>11520.0</td>\n",
       "      <td>741.0</td>\n",
       "      <td>33694.0</td>\n",
       "      <td>584.03</td>\n",
       "      <td>12.3</td>\n",
       "      <td>41.0</td>\n",
       "      <td>10</td>\n",
       "      <td>0</td>\n",
       "      <td>6760</td>\n",
       "      <td>16056.0</td>\n",
       "      <td>...</td>\n",
       "      <td>1</td>\n",
       "      <td>0</td>\n",
       "      <td>1</td>\n",
       "      <td>0</td>\n",
       "      <td>0</td>\n",
       "      <td>0</td>\n",
       "      <td>0</td>\n",
       "      <td>0</td>\n",
       "      <td>0</td>\n",
       "      <td>0</td>\n",
       "    </tr>\n",
       "    <tr>\n",
       "      <th>1</th>\n",
       "      <td>3441.0</td>\n",
       "      <td>734.0</td>\n",
       "      <td>42269.0</td>\n",
       "      <td>1106.04</td>\n",
       "      <td>26.3</td>\n",
       "      <td>200.0</td>\n",
       "      <td>17</td>\n",
       "      <td>0</td>\n",
       "      <td>6262</td>\n",
       "      <td>19149.0</td>\n",
       "      <td>...</td>\n",
       "      <td>1</td>\n",
       "      <td>0</td>\n",
       "      <td>0</td>\n",
       "      <td>1</td>\n",
       "      <td>0</td>\n",
       "      <td>0</td>\n",
       "      <td>0</td>\n",
       "      <td>0</td>\n",
       "      <td>0</td>\n",
       "      <td>0</td>\n",
       "    </tr>\n",
       "    <tr>\n",
       "      <th>2</th>\n",
       "      <td>21029.0</td>\n",
       "      <td>747.0</td>\n",
       "      <td>90126.0</td>\n",
       "      <td>1321.85</td>\n",
       "      <td>28.8</td>\n",
       "      <td>200.0</td>\n",
       "      <td>5</td>\n",
       "      <td>0</td>\n",
       "      <td>20967</td>\n",
       "      <td>28335.0</td>\n",
       "      <td>...</td>\n",
       "      <td>1</td>\n",
       "      <td>0</td>\n",
       "      <td>1</td>\n",
       "      <td>0</td>\n",
       "      <td>0</td>\n",
       "      <td>0</td>\n",
       "      <td>0</td>\n",
       "      <td>0</td>\n",
       "      <td>0</td>\n",
       "      <td>0</td>\n",
       "    </tr>\n",
       "    <tr>\n",
       "      <th>3</th>\n",
       "      <td>18743.0</td>\n",
       "      <td>747.0</td>\n",
       "      <td>38072.0</td>\n",
       "      <td>751.92</td>\n",
       "      <td>26.2</td>\n",
       "      <td>200.0</td>\n",
       "      <td>9</td>\n",
       "      <td>0</td>\n",
       "      <td>22529</td>\n",
       "      <td>43915.0</td>\n",
       "      <td>...</td>\n",
       "      <td>0</td>\n",
       "      <td>1</td>\n",
       "      <td>1</td>\n",
       "      <td>0</td>\n",
       "      <td>0</td>\n",
       "      <td>0</td>\n",
       "      <td>0</td>\n",
       "      <td>0</td>\n",
       "      <td>0</td>\n",
       "      <td>0</td>\n",
       "    </tr>\n",
       "    <tr>\n",
       "      <th>4</th>\n",
       "      <td>11731.0</td>\n",
       "      <td>746.0</td>\n",
       "      <td>50025.0</td>\n",
       "      <td>355.18</td>\n",
       "      <td>11.5</td>\n",
       "      <td>200.0</td>\n",
       "      <td>12</td>\n",
       "      <td>0</td>\n",
       "      <td>17391</td>\n",
       "      <td>37081.0</td>\n",
       "      <td>...</td>\n",
       "      <td>0</td>\n",
       "      <td>0</td>\n",
       "      <td>1</td>\n",
       "      <td>0</td>\n",
       "      <td>0</td>\n",
       "      <td>0</td>\n",
       "      <td>0</td>\n",
       "      <td>0</td>\n",
       "      <td>0</td>\n",
       "      <td>0</td>\n",
       "    </tr>\n",
       "    <tr>\n",
       "      <th>...</th>\n",
       "      <td>...</td>\n",
       "      <td>...</td>\n",
       "      <td>...</td>\n",
       "      <td>...</td>\n",
       "      <td>...</td>\n",
       "      <td>...</td>\n",
       "      <td>...</td>\n",
       "      <td>...</td>\n",
       "      <td>...</td>\n",
       "      <td>...</td>\n",
       "      <td>...</td>\n",
       "      <td>...</td>\n",
       "      <td>...</td>\n",
       "      <td>...</td>\n",
       "      <td>...</td>\n",
       "      <td>...</td>\n",
       "      <td>...</td>\n",
       "      <td>...</td>\n",
       "      <td>...</td>\n",
       "      <td>...</td>\n",
       "      <td>...</td>\n",
       "    </tr>\n",
       "    <tr>\n",
       "      <th>256977</th>\n",
       "      <td>11953.0</td>\n",
       "      <td>717.0</td>\n",
       "      <td>39844.0</td>\n",
       "      <td>982.82</td>\n",
       "      <td>11.7</td>\n",
       "      <td>32.0</td>\n",
       "      <td>9</td>\n",
       "      <td>1</td>\n",
       "      <td>4176</td>\n",
       "      <td>4783.0</td>\n",
       "      <td>...</td>\n",
       "      <td>1</td>\n",
       "      <td>0</td>\n",
       "      <td>1</td>\n",
       "      <td>0</td>\n",
       "      <td>0</td>\n",
       "      <td>0</td>\n",
       "      <td>0</td>\n",
       "      <td>0</td>\n",
       "      <td>0</td>\n",
       "      <td>0</td>\n",
       "    </tr>\n",
       "    <tr>\n",
       "      <th>256979</th>\n",
       "      <td>3911.0</td>\n",
       "      <td>736.0</td>\n",
       "      <td>53867.0</td>\n",
       "      <td>1706.58</td>\n",
       "      <td>19.9</td>\n",
       "      <td>200.0</td>\n",
       "      <td>16</td>\n",
       "      <td>0</td>\n",
       "      <td>43992</td>\n",
       "      <td>44080.0</td>\n",
       "      <td>...</td>\n",
       "      <td>0</td>\n",
       "      <td>0</td>\n",
       "      <td>1</td>\n",
       "      <td>0</td>\n",
       "      <td>0</td>\n",
       "      <td>0</td>\n",
       "      <td>0</td>\n",
       "      <td>0</td>\n",
       "      <td>0</td>\n",
       "      <td>0</td>\n",
       "    </tr>\n",
       "    <tr>\n",
       "      <th>256980</th>\n",
       "      <td>5078.0</td>\n",
       "      <td>737.0</td>\n",
       "      <td>77186.0</td>\n",
       "      <td>1376.47</td>\n",
       "      <td>19.1</td>\n",
       "      <td>47.0</td>\n",
       "      <td>9</td>\n",
       "      <td>0</td>\n",
       "      <td>1717</td>\n",
       "      <td>9758.0</td>\n",
       "      <td>...</td>\n",
       "      <td>0</td>\n",
       "      <td>1</td>\n",
       "      <td>1</td>\n",
       "      <td>0</td>\n",
       "      <td>0</td>\n",
       "      <td>0</td>\n",
       "      <td>0</td>\n",
       "      <td>0</td>\n",
       "      <td>0</td>\n",
       "      <td>0</td>\n",
       "    </tr>\n",
       "    <tr>\n",
       "      <th>256981</th>\n",
       "      <td>12116.0</td>\n",
       "      <td>746.0</td>\n",
       "      <td>52504.0</td>\n",
       "      <td>297.96</td>\n",
       "      <td>15.1</td>\n",
       "      <td>82.0</td>\n",
       "      <td>8</td>\n",
       "      <td>0</td>\n",
       "      <td>3315</td>\n",
       "      <td>20090.0</td>\n",
       "      <td>...</td>\n",
       "      <td>1</td>\n",
       "      <td>0</td>\n",
       "      <td>1</td>\n",
       "      <td>0</td>\n",
       "      <td>0</td>\n",
       "      <td>0</td>\n",
       "      <td>0</td>\n",
       "      <td>0</td>\n",
       "      <td>0</td>\n",
       "      <td>0</td>\n",
       "    </tr>\n",
       "    <tr>\n",
       "      <th>256983</th>\n",
       "      <td>27902.0</td>\n",
       "      <td>678.0</td>\n",
       "      <td>117480.0</td>\n",
       "      <td>2525.82</td>\n",
       "      <td>18.0</td>\n",
       "      <td>11.0</td>\n",
       "      <td>10</td>\n",
       "      <td>0</td>\n",
       "      <td>28317</td>\n",
       "      <td>62371.0</td>\n",
       "      <td>...</td>\n",
       "      <td>1</td>\n",
       "      <td>0</td>\n",
       "      <td>1</td>\n",
       "      <td>0</td>\n",
       "      <td>0</td>\n",
       "      <td>0</td>\n",
       "      <td>0</td>\n",
       "      <td>0</td>\n",
       "      <td>0</td>\n",
       "      <td>0</td>\n",
       "    </tr>\n",
       "  </tbody>\n",
       "</table>\n",
       "<p>215674 rows × 25 columns</p>\n",
       "</div>"
      ],
      "text/plain": [
       "        current_loan_amount  credit_score  annual_income  monthly_debt  \\\n",
       "0                   11520.0         741.0        33694.0        584.03   \n",
       "1                    3441.0         734.0        42269.0       1106.04   \n",
       "2                   21029.0         747.0        90126.0       1321.85   \n",
       "3                   18743.0         747.0        38072.0        751.92   \n",
       "4                   11731.0         746.0        50025.0        355.18   \n",
       "...                     ...           ...            ...           ...   \n",
       "256977              11953.0         717.0        39844.0        982.82   \n",
       "256979               3911.0         736.0        53867.0       1706.58   \n",
       "256980               5078.0         737.0        77186.0       1376.47   \n",
       "256981              12116.0         746.0        52504.0        297.96   \n",
       "256983              27902.0         678.0       117480.0       2525.82   \n",
       "\n",
       "        years_of_credit_history  months_since_last_delinquent  \\\n",
       "0                          12.3                          41.0   \n",
       "1                          26.3                         200.0   \n",
       "2                          28.8                         200.0   \n",
       "3                          26.2                         200.0   \n",
       "4                          11.5                         200.0   \n",
       "...                         ...                           ...   \n",
       "256977                     11.7                          32.0   \n",
       "256979                     19.9                         200.0   \n",
       "256980                     19.1                          47.0   \n",
       "256981                     15.1                          82.0   \n",
       "256983                     18.0                          11.0   \n",
       "\n",
       "        number_of_open_accounts  number_of_credit_problems  \\\n",
       "0                            10                          0   \n",
       "1                            17                          0   \n",
       "2                             5                          0   \n",
       "3                             9                          0   \n",
       "4                            12                          0   \n",
       "...                         ...                        ...   \n",
       "256977                        9                          1   \n",
       "256979                       16                          0   \n",
       "256980                        9                          0   \n",
       "256981                        8                          0   \n",
       "256983                       10                          0   \n",
       "\n",
       "        current_credit_balance  maximum_open_credit  ...  \\\n",
       "0                         6760              16056.0  ...   \n",
       "1                         6262              19149.0  ...   \n",
       "2                        20967              28335.0  ...   \n",
       "3                        22529              43915.0  ...   \n",
       "4                        17391              37081.0  ...   \n",
       "...                        ...                  ...  ...   \n",
       "256977                    4176               4783.0  ...   \n",
       "256979                   43992              44080.0  ...   \n",
       "256980                    1717               9758.0  ...   \n",
       "256981                    3315              20090.0  ...   \n",
       "256983                   28317              62371.0  ...   \n",
       "\n",
       "        home_encoded_mortgage  home_encoded_own  purpose_debt_consolidation  \\\n",
       "0                           1                 0                           1   \n",
       "1                           1                 0                           0   \n",
       "2                           1                 0                           1   \n",
       "3                           0                 1                           1   \n",
       "4                           0                 0                           1   \n",
       "...                       ...               ...                         ...   \n",
       "256977                      1                 0                           1   \n",
       "256979                      0                 0                           1   \n",
       "256980                      0                 1                           1   \n",
       "256981                      1                 0                           1   \n",
       "256983                      1                 0                           1   \n",
       "\n",
       "        purpose_other  purpose_business_loan  purpose_home_improvements  \\\n",
       "0                   0                      0                          0   \n",
       "1                   1                      0                          0   \n",
       "2                   0                      0                          0   \n",
       "3                   0                      0                          0   \n",
       "4                   0                      0                          0   \n",
       "...               ...                    ...                        ...   \n",
       "256977              0                      0                          0   \n",
       "256979              0                      0                          0   \n",
       "256980              0                      0                          0   \n",
       "256981              0                      0                          0   \n",
       "256983              0                      0                          0   \n",
       "\n",
       "        purpose_buy_house  purpose_buy_a_car  purpose_medical_bills  \\\n",
       "0                       0                  0                      0   \n",
       "1                       0                  0                      0   \n",
       "2                       0                  0                      0   \n",
       "3                       0                  0                      0   \n",
       "4                       0                  0                      0   \n",
       "...                   ...                ...                    ...   \n",
       "256977                  0                  0                      0   \n",
       "256979                  0                  0                      0   \n",
       "256980                  0                  0                      0   \n",
       "256981                  0                  0                      0   \n",
       "256983                  0                  0                      0   \n",
       "\n",
       "        purpose_take_a_trip  \n",
       "0                         0  \n",
       "1                         0  \n",
       "2                         0  \n",
       "3                         0  \n",
       "4                         0  \n",
       "...                     ...  \n",
       "256977                    0  \n",
       "256979                    0  \n",
       "256980                    0  \n",
       "256981                    0  \n",
       "256983                    0  \n",
       "\n",
       "[215674 rows x 25 columns]"
      ]
     },
     "execution_count": 162,
     "metadata": {},
     "output_type": "execute_result"
    }
   ],
   "source": [
    "df"
   ]
  },
  {
   "cell_type": "code",
   "execution_count": 161,
   "metadata": {},
   "outputs": [
    {
     "data": {
      "text/plain": [
       "current_loan_amount             0\n",
       "credit_score                    0\n",
       "annual_income                   0\n",
       "monthly_debt                    0\n",
       "years_of_credit_history         0\n",
       "months_since_last_delinquent    0\n",
       "number_of_open_accounts         0\n",
       "number_of_credit_problems       0\n",
       "current_credit_balance          0\n",
       "maximum_open_credit             0\n",
       "bankruptcies                    0\n",
       "tax_liens                       0\n",
       "term_encoded                    0\n",
       "loan_status_encoded             0\n",
       "years_in_job_encoded            0\n",
       "home_encoded_mortgage           0\n",
       "home_encoded_own                0\n",
       "purpose_debt_consolidation      0\n",
       "purpose_other                   0\n",
       "purpose_business_loan           0\n",
       "purpose_home_improvements       0\n",
       "purpose_buy_house               0\n",
       "purpose_buy_a_car               0\n",
       "purpose_medical_bills           0\n",
       "purpose_take_a_trip             0\n",
       "dtype: int64"
      ]
     },
     "execution_count": 161,
     "metadata": {},
     "output_type": "execute_result"
    }
   ],
   "source": [
    "df.isnull().sum()"
   ]
  },
  {
   "cell_type": "markdown",
   "metadata": {},
   "source": [
    "# Transform\n",
    "\n",
    "Transform helps make data normally distributed\n",
    "\n",
    "Trying to reduce skew in data, in preparation for Machine Learning Models"
   ]
  },
  {
   "cell_type": "markdown",
   "metadata": {},
   "source": []
  },
  {
   "cell_type": "markdown",
   "metadata": {},
   "source": [
    "BoxCox does not handle 0"
   ]
  },
  {
   "cell_type": "code",
   "execution_count": 168,
   "metadata": {},
   "outputs": [
    {
     "ename": "ValueError",
     "evalue": "Data must be positive.",
     "output_type": "error",
     "traceback": [
      "\u001b[0;31m---------------------------------------------------------------------------\u001b[0m",
      "\u001b[0;31mValueError\u001b[0m                                Traceback (most recent call last)",
      "Cell \u001b[0;32mIn[168], line 3\u001b[0m\n\u001b[1;32m      1\u001b[0m \u001b[38;5;28;01mfor\u001b[39;00m each_column \u001b[38;5;129;01min\u001b[39;00m df\u001b[38;5;241m.\u001b[39mcolumns:\n\u001b[1;32m      2\u001b[0m     name \u001b[38;5;241m=\u001b[39m \u001b[38;5;124m\"\u001b[39m\u001b[38;5;124mbox_\u001b[39m\u001b[38;5;124m\"\u001b[39m \u001b[38;5;241m+\u001b[39m each_column\n\u001b[0;32m----> 3\u001b[0m     name, lamb \u001b[38;5;241m=\u001b[39m \u001b[43mboxcox\u001b[49m\u001b[43m(\u001b[49m\u001b[43mdf\u001b[49m\u001b[43m[\u001b[49m\u001b[43meach_column\u001b[49m\u001b[43m]\u001b[49m\u001b[43m)\u001b[49m\n\u001b[1;32m      4\u001b[0m     df[\u001b[38;5;124m\"\u001b[39m\u001b[38;5;124meach_column\u001b[39m\u001b[38;5;124m\"\u001b[39m] \u001b[38;5;241m=\u001b[39m pd\u001b[38;5;241m.\u001b[39mSeries(name)\n",
      "File \u001b[0;32m/Library/Frameworks/Python.framework/Versions/3.12/lib/python3.12/site-packages/scipy/stats/_morestats.py:1102\u001b[0m, in \u001b[0;36mboxcox\u001b[0;34m(x, lmbda, alpha, optimizer)\u001b[0m\n\u001b[1;32m   1099\u001b[0m     \u001b[38;5;28;01mraise\u001b[39;00m \u001b[38;5;167;01mValueError\u001b[39;00m(\u001b[38;5;124m\"\u001b[39m\u001b[38;5;124mData must not be constant.\u001b[39m\u001b[38;5;124m\"\u001b[39m)\n\u001b[1;32m   1101\u001b[0m \u001b[38;5;28;01mif\u001b[39;00m np\u001b[38;5;241m.\u001b[39many(x \u001b[38;5;241m<\u001b[39m\u001b[38;5;241m=\u001b[39m \u001b[38;5;241m0\u001b[39m):\n\u001b[0;32m-> 1102\u001b[0m     \u001b[38;5;28;01mraise\u001b[39;00m \u001b[38;5;167;01mValueError\u001b[39;00m(\u001b[38;5;124m\"\u001b[39m\u001b[38;5;124mData must be positive.\u001b[39m\u001b[38;5;124m\"\u001b[39m)\n\u001b[1;32m   1104\u001b[0m \u001b[38;5;66;03m# If lmbda=None, find the lmbda that maximizes the log-likelihood function.\u001b[39;00m\n\u001b[1;32m   1105\u001b[0m lmax \u001b[38;5;241m=\u001b[39m boxcox_normmax(x, method\u001b[38;5;241m=\u001b[39m\u001b[38;5;124m'\u001b[39m\u001b[38;5;124mmle\u001b[39m\u001b[38;5;124m'\u001b[39m, optimizer\u001b[38;5;241m=\u001b[39moptimizer)\n",
      "\u001b[0;31mValueError\u001b[0m: Data must be positive."
     ]
    }
   ],
   "source": [
    "for each_column in df.columns:\n",
    "    name = \"box_\" + each_column\n",
    "    name, lamb = boxcox(df[each_column])\n",
    "    df[\"each_column\"] = pd.Series(name)"
   ]
  },
  {
   "cell_type": "markdown",
   "metadata": {},
   "source": [
    "Log Transformation"
   ]
  },
  {
   "cell_type": "code",
   "execution_count": 193,
   "metadata": {},
   "outputs": [],
   "source": [
    "for each_column in df.columns:\n",
    "    df[each_column] = np.log1p(df[each_column])"
   ]
  },
  {
   "cell_type": "code",
   "execution_count": 194,
   "metadata": {},
   "outputs": [
    {
     "data": {
      "text/html": [
       "<div>\n",
       "<style scoped>\n",
       "    .dataframe tbody tr th:only-of-type {\n",
       "        vertical-align: middle;\n",
       "    }\n",
       "\n",
       "    .dataframe tbody tr th {\n",
       "        vertical-align: top;\n",
       "    }\n",
       "\n",
       "    .dataframe thead th {\n",
       "        text-align: right;\n",
       "    }\n",
       "</style>\n",
       "<table border=\"1\" class=\"dataframe\">\n",
       "  <thead>\n",
       "    <tr style=\"text-align: right;\">\n",
       "      <th></th>\n",
       "      <th>current_loan_amount</th>\n",
       "      <th>credit_score</th>\n",
       "      <th>annual_income</th>\n",
       "      <th>monthly_debt</th>\n",
       "      <th>years_of_credit_history</th>\n",
       "      <th>months_since_last_delinquent</th>\n",
       "      <th>number_of_open_accounts</th>\n",
       "      <th>number_of_credit_problems</th>\n",
       "      <th>current_credit_balance</th>\n",
       "      <th>maximum_open_credit</th>\n",
       "      <th>...</th>\n",
       "      <th>home_encoded_mortgage</th>\n",
       "      <th>home_encoded_own</th>\n",
       "      <th>purpose_debt_consolidation</th>\n",
       "      <th>purpose_other</th>\n",
       "      <th>purpose_business_loan</th>\n",
       "      <th>purpose_home_improvements</th>\n",
       "      <th>purpose_buy_house</th>\n",
       "      <th>purpose_buy_a_car</th>\n",
       "      <th>purpose_medical_bills</th>\n",
       "      <th>purpose_take_a_trip</th>\n",
       "    </tr>\n",
       "  </thead>\n",
       "  <tbody>\n",
       "    <tr>\n",
       "      <th>0</th>\n",
       "      <td>0.278013</td>\n",
       "      <td>0.271846</td>\n",
       "      <td>0.279741</td>\n",
       "      <td>0.271132</td>\n",
       "      <td>0.248584</td>\n",
       "      <td>0.259069</td>\n",
       "      <td>0.246148</td>\n",
       "      <td>0.000000</td>\n",
       "      <td>0.277042</td>\n",
       "      <td>0.278578</td>\n",
       "      <td>...</td>\n",
       "      <td>0.191042</td>\n",
       "      <td>0.000000</td>\n",
       "      <td>0.191042</td>\n",
       "      <td>0.000000</td>\n",
       "      <td>0.0</td>\n",
       "      <td>0.0</td>\n",
       "      <td>0.0</td>\n",
       "      <td>0.0</td>\n",
       "      <td>0.0</td>\n",
       "      <td>0.0</td>\n",
       "    </tr>\n",
       "    <tr>\n",
       "      <th>1</th>\n",
       "      <td>0.275680</td>\n",
       "      <td>0.271819</td>\n",
       "      <td>0.280073</td>\n",
       "      <td>0.272966</td>\n",
       "      <td>0.255797</td>\n",
       "      <td>0.267347</td>\n",
       "      <td>0.251952</td>\n",
       "      <td>0.000000</td>\n",
       "      <td>0.276896</td>\n",
       "      <td>0.278866</td>\n",
       "      <td>...</td>\n",
       "      <td>0.191042</td>\n",
       "      <td>0.000000</td>\n",
       "      <td>0.000000</td>\n",
       "      <td>0.191042</td>\n",
       "      <td>0.0</td>\n",
       "      <td>0.0</td>\n",
       "      <td>0.0</td>\n",
       "      <td>0.0</td>\n",
       "      <td>0.0</td>\n",
       "      <td>0.0</td>\n",
       "    </tr>\n",
       "    <tr>\n",
       "      <th>2</th>\n",
       "      <td>0.279016</td>\n",
       "      <td>0.271870</td>\n",
       "      <td>0.281110</td>\n",
       "      <td>0.273434</td>\n",
       "      <td>0.256514</td>\n",
       "      <td>0.267347</td>\n",
       "      <td>0.235907</td>\n",
       "      <td>0.000000</td>\n",
       "      <td>0.279011</td>\n",
       "      <td>0.279480</td>\n",
       "      <td>...</td>\n",
       "      <td>0.191042</td>\n",
       "      <td>0.000000</td>\n",
       "      <td>0.191042</td>\n",
       "      <td>0.000000</td>\n",
       "      <td>0.0</td>\n",
       "      <td>0.0</td>\n",
       "      <td>0.0</td>\n",
       "      <td>0.0</td>\n",
       "      <td>0.0</td>\n",
       "      <td>0.0</td>\n",
       "    </tr>\n",
       "    <tr>\n",
       "      <th>3</th>\n",
       "      <td>0.278831</td>\n",
       "      <td>0.271870</td>\n",
       "      <td>0.279921</td>\n",
       "      <td>0.271889</td>\n",
       "      <td>0.255767</td>\n",
       "      <td>0.267347</td>\n",
       "      <td>0.244812</td>\n",
       "      <td>0.000000</td>\n",
       "      <td>0.279125</td>\n",
       "      <td>0.280128</td>\n",
       "      <td>...</td>\n",
       "      <td>0.000000</td>\n",
       "      <td>0.191042</td>\n",
       "      <td>0.191042</td>\n",
       "      <td>0.000000</td>\n",
       "      <td>0.0</td>\n",
       "      <td>0.0</td>\n",
       "      <td>0.0</td>\n",
       "      <td>0.0</td>\n",
       "      <td>0.0</td>\n",
       "      <td>0.0</td>\n",
       "    </tr>\n",
       "    <tr>\n",
       "      <th>4</th>\n",
       "      <td>0.278045</td>\n",
       "      <td>0.271866</td>\n",
       "      <td>0.280313</td>\n",
       "      <td>0.269503</td>\n",
       "      <td>0.247819</td>\n",
       "      <td>0.267347</td>\n",
       "      <td>0.248306</td>\n",
       "      <td>0.000000</td>\n",
       "      <td>0.278709</td>\n",
       "      <td>0.279882</td>\n",
       "      <td>...</td>\n",
       "      <td>0.000000</td>\n",
       "      <td>0.000000</td>\n",
       "      <td>0.191042</td>\n",
       "      <td>0.000000</td>\n",
       "      <td>0.0</td>\n",
       "      <td>0.0</td>\n",
       "      <td>0.0</td>\n",
       "      <td>0.0</td>\n",
       "      <td>0.0</td>\n",
       "      <td>0.0</td>\n",
       "    </tr>\n",
       "    <tr>\n",
       "      <th>...</th>\n",
       "      <td>...</td>\n",
       "      <td>...</td>\n",
       "      <td>...</td>\n",
       "      <td>...</td>\n",
       "      <td>...</td>\n",
       "      <td>...</td>\n",
       "      <td>...</td>\n",
       "      <td>...</td>\n",
       "      <td>...</td>\n",
       "      <td>...</td>\n",
       "      <td>...</td>\n",
       "      <td>...</td>\n",
       "      <td>...</td>\n",
       "      <td>...</td>\n",
       "      <td>...</td>\n",
       "      <td>...</td>\n",
       "      <td>...</td>\n",
       "      <td>...</td>\n",
       "      <td>...</td>\n",
       "      <td>...</td>\n",
       "      <td>...</td>\n",
       "    </tr>\n",
       "    <tr>\n",
       "      <th>256977</th>\n",
       "      <td>0.278077</td>\n",
       "      <td>0.271750</td>\n",
       "      <td>0.279987</td>\n",
       "      <td>0.272646</td>\n",
       "      <td>0.248017</td>\n",
       "      <td>0.257313</td>\n",
       "      <td>0.244812</td>\n",
       "      <td>0.191042</td>\n",
       "      <td>0.276087</td>\n",
       "      <td>0.276364</td>\n",
       "      <td>...</td>\n",
       "      <td>0.191042</td>\n",
       "      <td>0.000000</td>\n",
       "      <td>0.191042</td>\n",
       "      <td>0.000000</td>\n",
       "      <td>0.0</td>\n",
       "      <td>0.0</td>\n",
       "      <td>0.0</td>\n",
       "      <td>0.0</td>\n",
       "      <td>0.0</td>\n",
       "      <td>0.0</td>\n",
       "    </tr>\n",
       "    <tr>\n",
       "      <th>256979</th>\n",
       "      <td>0.275951</td>\n",
       "      <td>0.271827</td>\n",
       "      <td>0.280416</td>\n",
       "      <td>0.274075</td>\n",
       "      <td>0.253423</td>\n",
       "      <td>0.267347</td>\n",
       "      <td>0.251358</td>\n",
       "      <td>0.000000</td>\n",
       "      <td>0.280130</td>\n",
       "      <td>0.280133</td>\n",
       "      <td>...</td>\n",
       "      <td>0.000000</td>\n",
       "      <td>0.000000</td>\n",
       "      <td>0.191042</td>\n",
       "      <td>0.000000</td>\n",
       "      <td>0.0</td>\n",
       "      <td>0.0</td>\n",
       "      <td>0.0</td>\n",
       "      <td>0.0</td>\n",
       "      <td>0.0</td>\n",
       "      <td>0.0</td>\n",
       "    </tr>\n",
       "    <tr>\n",
       "      <th>256980</th>\n",
       "      <td>0.276485</td>\n",
       "      <td>0.271830</td>\n",
       "      <td>0.280906</td>\n",
       "      <td>0.273538</td>\n",
       "      <td>0.253049</td>\n",
       "      <td>0.259969</td>\n",
       "      <td>0.244812</td>\n",
       "      <td>0.000000</td>\n",
       "      <td>0.274090</td>\n",
       "      <td>0.277720</td>\n",
       "      <td>...</td>\n",
       "      <td>0.000000</td>\n",
       "      <td>0.191042</td>\n",
       "      <td>0.191042</td>\n",
       "      <td>0.000000</td>\n",
       "      <td>0.0</td>\n",
       "      <td>0.0</td>\n",
       "      <td>0.0</td>\n",
       "      <td>0.0</td>\n",
       "      <td>0.0</td>\n",
       "      <td>0.0</td>\n",
       "    </tr>\n",
       "    <tr>\n",
       "      <th>256981</th>\n",
       "      <td>0.278101</td>\n",
       "      <td>0.271866</td>\n",
       "      <td>0.280381</td>\n",
       "      <td>0.268878</td>\n",
       "      <td>0.250775</td>\n",
       "      <td>0.263217</td>\n",
       "      <td>0.243235</td>\n",
       "      <td>0.000000</td>\n",
       "      <td>0.275600</td>\n",
       "      <td>0.278943</td>\n",
       "      <td>...</td>\n",
       "      <td>0.191042</td>\n",
       "      <td>0.000000</td>\n",
       "      <td>0.191042</td>\n",
       "      <td>0.000000</td>\n",
       "      <td>0.0</td>\n",
       "      <td>0.0</td>\n",
       "      <td>0.0</td>\n",
       "      <td>0.0</td>\n",
       "      <td>0.0</td>\n",
       "      <td>0.0</td>\n",
       "    </tr>\n",
       "    <tr>\n",
       "      <th>256983</th>\n",
       "      <td>0.279457</td>\n",
       "      <td>0.271584</td>\n",
       "      <td>0.281449</td>\n",
       "      <td>0.274999</td>\n",
       "      <td>0.252497</td>\n",
       "      <td>0.247300</td>\n",
       "      <td>0.246148</td>\n",
       "      <td>0.000000</td>\n",
       "      <td>0.279479</td>\n",
       "      <td>0.280619</td>\n",
       "      <td>...</td>\n",
       "      <td>0.191042</td>\n",
       "      <td>0.000000</td>\n",
       "      <td>0.191042</td>\n",
       "      <td>0.000000</td>\n",
       "      <td>0.0</td>\n",
       "      <td>0.0</td>\n",
       "      <td>0.0</td>\n",
       "      <td>0.0</td>\n",
       "      <td>0.0</td>\n",
       "      <td>0.0</td>\n",
       "    </tr>\n",
       "  </tbody>\n",
       "</table>\n",
       "<p>215674 rows × 25 columns</p>\n",
       "</div>"
      ],
      "text/plain": [
       "        current_loan_amount  credit_score  annual_income  monthly_debt  \\\n",
       "0                  0.278013      0.271846       0.279741      0.271132   \n",
       "1                  0.275680      0.271819       0.280073      0.272966   \n",
       "2                  0.279016      0.271870       0.281110      0.273434   \n",
       "3                  0.278831      0.271870       0.279921      0.271889   \n",
       "4                  0.278045      0.271866       0.280313      0.269503   \n",
       "...                     ...           ...            ...           ...   \n",
       "256977             0.278077      0.271750       0.279987      0.272646   \n",
       "256979             0.275951      0.271827       0.280416      0.274075   \n",
       "256980             0.276485      0.271830       0.280906      0.273538   \n",
       "256981             0.278101      0.271866       0.280381      0.268878   \n",
       "256983             0.279457      0.271584       0.281449      0.274999   \n",
       "\n",
       "        years_of_credit_history  months_since_last_delinquent  \\\n",
       "0                      0.248584                      0.259069   \n",
       "1                      0.255797                      0.267347   \n",
       "2                      0.256514                      0.267347   \n",
       "3                      0.255767                      0.267347   \n",
       "4                      0.247819                      0.267347   \n",
       "...                         ...                           ...   \n",
       "256977                 0.248017                      0.257313   \n",
       "256979                 0.253423                      0.267347   \n",
       "256980                 0.253049                      0.259969   \n",
       "256981                 0.250775                      0.263217   \n",
       "256983                 0.252497                      0.247300   \n",
       "\n",
       "        number_of_open_accounts  number_of_credit_problems  \\\n",
       "0                      0.246148                   0.000000   \n",
       "1                      0.251952                   0.000000   \n",
       "2                      0.235907                   0.000000   \n",
       "3                      0.244812                   0.000000   \n",
       "4                      0.248306                   0.000000   \n",
       "...                         ...                        ...   \n",
       "256977                 0.244812                   0.191042   \n",
       "256979                 0.251358                   0.000000   \n",
       "256980                 0.244812                   0.000000   \n",
       "256981                 0.243235                   0.000000   \n",
       "256983                 0.246148                   0.000000   \n",
       "\n",
       "        current_credit_balance  maximum_open_credit  ...  \\\n",
       "0                     0.277042             0.278578  ...   \n",
       "1                     0.276896             0.278866  ...   \n",
       "2                     0.279011             0.279480  ...   \n",
       "3                     0.279125             0.280128  ...   \n",
       "4                     0.278709             0.279882  ...   \n",
       "...                        ...                  ...  ...   \n",
       "256977                0.276087             0.276364  ...   \n",
       "256979                0.280130             0.280133  ...   \n",
       "256980                0.274090             0.277720  ...   \n",
       "256981                0.275600             0.278943  ...   \n",
       "256983                0.279479             0.280619  ...   \n",
       "\n",
       "        home_encoded_mortgage  home_encoded_own  purpose_debt_consolidation  \\\n",
       "0                    0.191042          0.000000                    0.191042   \n",
       "1                    0.191042          0.000000                    0.000000   \n",
       "2                    0.191042          0.000000                    0.191042   \n",
       "3                    0.000000          0.191042                    0.191042   \n",
       "4                    0.000000          0.000000                    0.191042   \n",
       "...                       ...               ...                         ...   \n",
       "256977               0.191042          0.000000                    0.191042   \n",
       "256979               0.000000          0.000000                    0.191042   \n",
       "256980               0.000000          0.191042                    0.191042   \n",
       "256981               0.191042          0.000000                    0.191042   \n",
       "256983               0.191042          0.000000                    0.191042   \n",
       "\n",
       "        purpose_other  purpose_business_loan  purpose_home_improvements  \\\n",
       "0            0.000000                    0.0                        0.0   \n",
       "1            0.191042                    0.0                        0.0   \n",
       "2            0.000000                    0.0                        0.0   \n",
       "3            0.000000                    0.0                        0.0   \n",
       "4            0.000000                    0.0                        0.0   \n",
       "...               ...                    ...                        ...   \n",
       "256977       0.000000                    0.0                        0.0   \n",
       "256979       0.000000                    0.0                        0.0   \n",
       "256980       0.000000                    0.0                        0.0   \n",
       "256981       0.000000                    0.0                        0.0   \n",
       "256983       0.000000                    0.0                        0.0   \n",
       "\n",
       "        purpose_buy_house  purpose_buy_a_car  purpose_medical_bills  \\\n",
       "0                     0.0                0.0                    0.0   \n",
       "1                     0.0                0.0                    0.0   \n",
       "2                     0.0                0.0                    0.0   \n",
       "3                     0.0                0.0                    0.0   \n",
       "4                     0.0                0.0                    0.0   \n",
       "...                   ...                ...                    ...   \n",
       "256977                0.0                0.0                    0.0   \n",
       "256979                0.0                0.0                    0.0   \n",
       "256980                0.0                0.0                    0.0   \n",
       "256981                0.0                0.0                    0.0   \n",
       "256983                0.0                0.0                    0.0   \n",
       "\n",
       "        purpose_take_a_trip  \n",
       "0                       0.0  \n",
       "1                       0.0  \n",
       "2                       0.0  \n",
       "3                       0.0  \n",
       "4                       0.0  \n",
       "...                     ...  \n",
       "256977                  0.0  \n",
       "256979                  0.0  \n",
       "256980                  0.0  \n",
       "256981                  0.0  \n",
       "256983                  0.0  \n",
       "\n",
       "[215674 rows x 25 columns]"
      ]
     },
     "execution_count": 194,
     "metadata": {},
     "output_type": "execute_result"
    }
   ],
   "source": [
    "df"
   ]
  },
  {
   "cell_type": "code",
   "execution_count": 195,
   "metadata": {},
   "outputs": [
    {
     "data": {
      "text/plain": [
       "array([[<Axes: title={'center': 'current_loan_amount'}>,\n",
       "        <Axes: title={'center': 'credit_score'}>,\n",
       "        <Axes: title={'center': 'annual_income'}>,\n",
       "        <Axes: title={'center': 'monthly_debt'}>,\n",
       "        <Axes: title={'center': 'years_of_credit_history'}>],\n",
       "       [<Axes: title={'center': 'months_since_last_delinquent'}>,\n",
       "        <Axes: title={'center': 'number_of_open_accounts'}>,\n",
       "        <Axes: title={'center': 'number_of_credit_problems'}>,\n",
       "        <Axes: title={'center': 'current_credit_balance'}>,\n",
       "        <Axes: title={'center': 'maximum_open_credit'}>],\n",
       "       [<Axes: title={'center': 'bankruptcies'}>,\n",
       "        <Axes: title={'center': 'tax_liens'}>,\n",
       "        <Axes: title={'center': 'term_encoded'}>,\n",
       "        <Axes: title={'center': 'loan_status_encoded'}>,\n",
       "        <Axes: title={'center': 'years_in_job_encoded'}>],\n",
       "       [<Axes: title={'center': 'home_encoded_mortgage'}>,\n",
       "        <Axes: title={'center': 'home_encoded_own'}>,\n",
       "        <Axes: title={'center': 'purpose_debt_consolidation'}>,\n",
       "        <Axes: title={'center': 'purpose_other'}>,\n",
       "        <Axes: title={'center': 'purpose_business_loan'}>],\n",
       "       [<Axes: title={'center': 'purpose_home_improvements'}>,\n",
       "        <Axes: title={'center': 'purpose_buy_house'}>,\n",
       "        <Axes: title={'center': 'purpose_buy_a_car'}>,\n",
       "        <Axes: title={'center': 'purpose_medical_bills'}>,\n",
       "        <Axes: title={'center': 'purpose_take_a_trip'}>]], dtype=object)"
      ]
     },
     "execution_count": 195,
     "metadata": {},
     "output_type": "execute_result"
    },
    {
     "data": {
      "image/png": "[encoded data removed]",
      "text/plain": [
       "<Figure size 640x480 with 25 Axes>"
      ]
     },
     "metadata": {},
     "output_type": "display_data"
    }
   ],
   "source": [
    "df.hist()"
   ]
  }
 ],
 "metadata": {
  "kernelspec": {
   "display_name": "Python 3",
   "language": "python",
   "name": "python3"
  },
  "language_info": {
   "codemirror_mode": {
    "name": "ipython",
    "version": 3
   },
   "file_extension": ".py",
   "mimetype": "text/x-python",
   "name": "python",
   "nbconvert_exporter": "python",
   "pygments_lexer": "ipython3",
   "version": "3.12.0"
  }
 },
 "nbformat": 4,
 "nbformat_minor": 2
}
